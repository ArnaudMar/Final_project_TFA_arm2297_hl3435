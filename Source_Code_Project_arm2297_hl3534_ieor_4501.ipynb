{
 "cells": [
  {
   "cell_type": "markdown",
   "id": "32f8ca24",
   "metadata": {},
   "source": [
    "# Understanding Hired Rides in NYC\n",
    "\n",
    "_[Project prompt](https://docs.google.com/document/d/1tGcX2qzS2GoaN5zFeD5DVJxqDmoQdmMs7QncZwFCEqU/edit#)_\n",
    "\n",
    "_This scaffolding notebook may be used to help setup your final project. It's totally optional whether you make use of this or not._\n",
    "\n",
    "_If you do use this notebook, everything provided is optional as well - you may remove or add prose and code as you wish._\n",
    "\n",
    "_Anything in italics (prose) or comments (in code) is meant to provide you with guidance. **Remove the italic lines and provided comments** before submitting the project, if you choose to use this scaffolding. We don't need the guidance when grading._\n",
    "\n",
    "_All code should be consider \"pseudo-code\" - not functional by itself, and only a suggestion at the approach._"
   ]
  },
  {
   "cell_type": "markdown",
   "id": "25627e8d",
   "metadata": {},
   "source": [
    "## Requirements\n",
    "\n",
    "_A checklist of requirements to keep you on track. Remove this whole cell before submitting the project._\n",
    "\n",
    "* Code clarity: make sure the code conforms to:\n",
    "    * [ ] [PEP 8](https://peps.python.org/pep-0008/) - You might find [this resource](https://realpython.com/python-pep8/) helpful as well as [this](https://github.com/dnanhkhoa/nb_black) or [this](https://jupyterlab-code-formatter.readthedocs.io/en/latest/) tool\n",
    "    * [ ] [PEP 257](https://peps.python.org/pep-0257/)\n",
    "    * [ ] Break each task down into logical functions\n",
    "* The following files are submitted for the project (see the project's GDoc for more details):\n",
    "    * [ ] `README.md`\n",
    "    * [ ] `requirements.txt`\n",
    "    * [ ] `.gitignore`\n",
    "    * [ ] `schema.sql`\n",
    "    * [ ] 6 query files (using the `.sql` extension), appropriately named for the purpose of the query\n",
    "    * [x] Jupyter Notebook containing the project (this file!)\n",
    "* [x] You can edit this cell and add a `x` inside the `[ ]` like this task to denote a completed task"
   ]
  },
  {
   "cell_type": "markdown",
   "id": "2f75fd94",
   "metadata": {},
   "source": [
    "## Project Setup"
   ]
  },
  {
   "cell_type": "code",
   "execution_count": 77,
   "id": "66dcde05",
   "metadata": {},
   "outputs": [],
   "source": [
    "import requests\n",
    "from bs4 import BeautifulSoup\n",
    "import pandas as pd\n",
    "import numpy as np\n",
    "import math\n",
    "import matplotlib.pyplot as plt\n",
    "import sqlalchemy as db\n",
    "import seaborn as sns\n",
    "\n",
    "uber_csv = \"uber_rides_sample.csv\"\n",
    "uber_df = pd.read_csv(uber_csv)\n",
    "DATABASE_URL = \"sqlite:///project.db\"\n",
    "DATABASE_SCHEMA_FILE = \"schema.sql\"\n",
    "QUERY_DIRECTORY = \"queries\"\n"
   ]
  },
  {
   "cell_type": "code",
   "execution_count": null,
   "id": "3f1242c4",
   "metadata": {},
   "outputs": [],
   "source": [
    "# any constants you might need, for example:\n",
    "\n",
    "TAXI_URL = \"https://www1.nyc.gov/site/tlc/about/tlc-trip-record-data.page\"\n",
    "# add other constants to refer to any local data, e.g. uber & weather\n",
    "UBER_CSV = \"uber_rides_sample.csv\"\n",
    "\n",
    "NEW_YORK_BOX_COORDS = ((40.560445, -74.242330), (40.908524, -73.717047))\n",
    "JFK_BOX_COORDS= ((40.615506,-73.826022),(40.669280,-73.743984)) # Lat / Lng format , JFK airport coordinates\n",
    "LGA_BOX_COORDS= ((40.766103,-73.892017),(40.773705,-73.856404)) # Lat / Lng format , Laguardia airport coordinates\n",
    "EWR_BOX_COORDS= ((40.670081,-74.200241),(40.717049,-74.148753)) # Lat / Lng format , Newark airport coordinates"
   ]
  },
  {
   "cell_type": "markdown",
   "id": "26ad10ea",
   "metadata": {},
   "source": [
    "## Part 1: Data Preprocessing - constructing a CSV File for taxi data."
   ]
  },
  {
   "cell_type": "markdown",
   "id": "93daa717",
   "metadata": {},
   "source": [
    "### Creating the csv file containing samples from the taxi data\n",
    "\n",
    "In this part we are going to download and clean all taxi data to get a similar sample than the one we have for uber rides. \n",
    "<mark> Please note this part of the project was done prior to the realeasing of the project template by the Profesor, the next parts are closer in form to what is expected. </mark>\n",
    "Moreover, considering the size of the data this part is not intended to be runned again after we have compiled the final_csv.csv file that we will be working on for the rest of the project."
   ]
  },
  {
   "cell_type": "code",
   "execution_count": 160,
   "id": "cbd0d198",
   "metadata": {},
   "outputs": [
    {
     "ename": "KeyboardInterrupt",
     "evalue": "Interrupted by user",
     "output_type": "error",
     "traceback": [
      "\u001b[1;31m---------------------------------------------------------------------------\u001b[0m",
      "\u001b[1;31mKeyboardInterrupt\u001b[0m                         Traceback (most recent call last)",
      "Input \u001b[1;32mIn [160]\u001b[0m, in \u001b[0;36m<module>\u001b[1;34m\u001b[0m\n\u001b[0;32m     43\u001b[0m             data \u001b[38;5;241m=\u001b[39m data\u001b[38;5;241m.\u001b[39msample(n\u001b[38;5;241m=\u001b[39m\u001b[38;5;241m3000\u001b[39m)\n\u001b[0;32m     44\u001b[0m             data\u001b[38;5;241m.\u001b[39mto_csv(your_path\u001b[38;5;241m+\u001b[39m\u001b[38;5;28mstr\u001b[39m(i)\u001b[38;5;241m+\u001b[39m\u001b[38;5;124m'\u001b[39m\u001b[38;5;124m.csv\u001b[39m\u001b[38;5;124m'\u001b[39m)  \n\u001b[1;32m---> 46\u001b[0m path \u001b[38;5;241m=\u001b[39m \u001b[38;5;28;43minput\u001b[39;49m\u001b[43m(\u001b[49m\u001b[38;5;124;43m'\u001b[39;49m\u001b[38;5;124;43mplease input your path\u001b[39;49m\u001b[38;5;124;43m'\u001b[39;49m\u001b[43m)\u001b[49m            \n\u001b[0;32m     47\u001b[0m export_taxi_csv(path)\n",
      "File \u001b[1;32m~\\AppData\\Local\\Programs\\Python\\Python310\\lib\\site-packages\\ipykernel\\kernelbase.py:1044\u001b[0m, in \u001b[0;36mKernel.raw_input\u001b[1;34m(self, prompt)\u001b[0m\n\u001b[0;32m   1040\u001b[0m \u001b[38;5;28;01mif\u001b[39;00m \u001b[38;5;129;01mnot\u001b[39;00m \u001b[38;5;28mself\u001b[39m\u001b[38;5;241m.\u001b[39m_allow_stdin:\n\u001b[0;32m   1041\u001b[0m     \u001b[38;5;28;01mraise\u001b[39;00m StdinNotImplementedError(\n\u001b[0;32m   1042\u001b[0m         \u001b[38;5;124m\"\u001b[39m\u001b[38;5;124mraw_input was called, but this frontend does not support input requests.\u001b[39m\u001b[38;5;124m\"\u001b[39m\n\u001b[0;32m   1043\u001b[0m     )\n\u001b[1;32m-> 1044\u001b[0m \u001b[38;5;28;01mreturn\u001b[39;00m \u001b[38;5;28;43mself\u001b[39;49m\u001b[38;5;241;43m.\u001b[39;49m\u001b[43m_input_request\u001b[49m\u001b[43m(\u001b[49m\n\u001b[0;32m   1045\u001b[0m \u001b[43m    \u001b[49m\u001b[38;5;28;43mstr\u001b[39;49m\u001b[43m(\u001b[49m\u001b[43mprompt\u001b[49m\u001b[43m)\u001b[49m\u001b[43m,\u001b[49m\n\u001b[0;32m   1046\u001b[0m \u001b[43m    \u001b[49m\u001b[38;5;28;43mself\u001b[39;49m\u001b[38;5;241;43m.\u001b[39;49m\u001b[43m_parent_ident\u001b[49m\u001b[43m[\u001b[49m\u001b[38;5;124;43m\"\u001b[39;49m\u001b[38;5;124;43mshell\u001b[39;49m\u001b[38;5;124;43m\"\u001b[39;49m\u001b[43m]\u001b[49m\u001b[43m,\u001b[49m\n\u001b[0;32m   1047\u001b[0m \u001b[43m    \u001b[49m\u001b[38;5;28;43mself\u001b[39;49m\u001b[38;5;241;43m.\u001b[39;49m\u001b[43mget_parent\u001b[49m\u001b[43m(\u001b[49m\u001b[38;5;124;43m\"\u001b[39;49m\u001b[38;5;124;43mshell\u001b[39;49m\u001b[38;5;124;43m\"\u001b[39;49m\u001b[43m)\u001b[49m\u001b[43m,\u001b[49m\n\u001b[0;32m   1048\u001b[0m \u001b[43m    \u001b[49m\u001b[43mpassword\u001b[49m\u001b[38;5;241;43m=\u001b[39;49m\u001b[38;5;28;43;01mFalse\u001b[39;49;00m\u001b[43m,\u001b[49m\n\u001b[0;32m   1049\u001b[0m \u001b[43m\u001b[49m\u001b[43m)\u001b[49m\n",
      "File \u001b[1;32m~\\AppData\\Local\\Programs\\Python\\Python310\\lib\\site-packages\\ipykernel\\kernelbase.py:1089\u001b[0m, in \u001b[0;36mKernel._input_request\u001b[1;34m(self, prompt, ident, parent, password)\u001b[0m\n\u001b[0;32m   1086\u001b[0m             \u001b[38;5;28;01mbreak\u001b[39;00m\n\u001b[0;32m   1087\u001b[0m \u001b[38;5;28;01mexcept\u001b[39;00m \u001b[38;5;167;01mKeyboardInterrupt\u001b[39;00m:\n\u001b[0;32m   1088\u001b[0m     \u001b[38;5;66;03m# re-raise KeyboardInterrupt, to truncate traceback\u001b[39;00m\n\u001b[1;32m-> 1089\u001b[0m     \u001b[38;5;28;01mraise\u001b[39;00m \u001b[38;5;167;01mKeyboardInterrupt\u001b[39;00m(\u001b[38;5;124m\"\u001b[39m\u001b[38;5;124mInterrupted by user\u001b[39m\u001b[38;5;124m\"\u001b[39m) \u001b[38;5;28;01mfrom\u001b[39;00m \u001b[38;5;28mNone\u001b[39m\n\u001b[0;32m   1090\u001b[0m \u001b[38;5;28;01mexcept\u001b[39;00m \u001b[38;5;167;01mException\u001b[39;00m:\n\u001b[0;32m   1091\u001b[0m     \u001b[38;5;28mself\u001b[39m\u001b[38;5;241m.\u001b[39mlog\u001b[38;5;241m.\u001b[39mwarning(\u001b[38;5;124m\"\u001b[39m\u001b[38;5;124mInvalid Message:\u001b[39m\u001b[38;5;124m\"\u001b[39m, exc_info\u001b[38;5;241m=\u001b[39m\u001b[38;5;28;01mTrue\u001b[39;00m)\n",
      "\u001b[1;31mKeyboardInterrupt\u001b[0m: Interrupted by user"
     ]
    }
   ],
   "source": [
    "###### please change the path at the very bottom\n",
    "def export_taxi_csv(your_path):\n",
    "        \"\"\"Scrape the taxi data website, find all CSV links from 2009 to 2015 \n",
    "        and export all the content to path of your choice\n",
    "    \n",
    "    Args:\n",
    "        string (str): path you would like to store all the CSVs at\n",
    "        \n",
    "    \"\"\"\n",
    "# we care about data in the range of 01-2009 through 06-2015 \n",
    "    content = requests.get('https://www1.nyc.gov/site/tlc/about/tlc-trip-record-data.page')\n",
    "    soup = BeautifulSoup(content.text, 'lxml')\n",
    "    # all_a_tags = results_page.find_all('a')\n",
    "    web_a_list = [a['href'] for a in soup.find_all('a')] # this will return all href links in the website\n",
    "\n",
    "    # yellow_taxi_links will contain links of all the csv, but we only care about the years from 2009 to 2015\n",
    "    yellow_taxi_links = []\n",
    "    for i in web_a_list:\n",
    "        if \"https://s3.amazonaws.com/nyc-tlc/trip+data/yellow_tripdata\" in i:\n",
    "            yellow_taxi_links.append(i)\n",
    "\n",
    "    # Code below will get us final_yellow_csv which contains the links of the csv from 2009 to 2015 only\n",
    "    final_yellow_csv = []\n",
    "    for i in yellow_taxi_links:\n",
    "        if \"2009\" in i or \"2010\" in i or \"2011\" in i or \"2012\" in i or \"2013\" in i or \"2014\" in i or \"2015\" in i:\n",
    "            final_yellow_csv.append(i)\n",
    "\n",
    "    ## I try using regex but found it easier to use if statement instead\n",
    "    # yellow_taxi_links_2009_2015 = []\n",
    "    # pattern = r\"2009\"\n",
    "    # pattern1 = r\"201([0-5])\"\n",
    "\n",
    "    # match = re.match(pattern,yellow_taxi_links[130])\n",
    "\n",
    "    os.makedirs(your_path, exist_ok=True)  \n",
    "\n",
    "    taxi_data_list = []\n",
    "    for i in range(len(final_yellow_csv)):\n",
    "        if i >= 72:\n",
    "            print(i)\n",
    "            data = pd.read_csv(final_yellow_csv[i], on_bad_lines='skip')\n",
    "            data = data.drop(['Rate_Code', 'store_and_forward','mta_tax'], axis=1)\n",
    "            data = data.dropna() # remove rows containing na \n",
    "            data = data.sample(n=3000)\n",
    "            data.to_csv(your_path+str(i)+'.csv') \n",
    "        else:\n",
    "            data = pd.read_csv(final_yellow_csv[i], on_bad_lines='skip')\n",
    "            data = data.dropna() # remove rows containing na \n",
    "\n",
    "            data = data.sample(n=3000)\n",
    "            data.to_csv(your_path+str(i)+'.csv')  \n",
    "            \n",
    "path = input('please input your path')            \n",
    "export_taxi_csv(path)\n",
    "# example: /Users/h.s.a.li/Desktop/Taxi_CSV\n",
    "\n",
    "    # skip on bad lines such blank row in some csv\n",
    "    # if it is 2009 csv drop 'Rate_Code', 'store_and_forward','mta_tax' columns because they are empty\n",
    "    # get rid of all rows with NA\n",
    "    # sample 3000 rows from each csv"
   ]
  },
  {
   "cell_type": "code",
   "execution_count": null,
   "id": "658f0e65",
   "metadata": {},
   "outputs": [],
   "source": [
    "# changing all the column names from all dataset to the 2010 format\n",
    "# why 2010? I think it looks the simplest\n",
    "# add extra and mta_tax to the dataset that miss them\n",
    "# do a append of to combine all sampled data into one single dataframe \n",
    "\n",
    "import glob\n",
    "\n",
    "def clean_taxi_csv(your_path):\n",
    "    \"\"\"filter each taxi csv file, append them togeher  and export it to a \n",
    "    \n",
    "    Args:\n",
    "        string (str): path you would like to store the final csv\n",
    "        \n",
    "    \"\"\"\n",
    "    path = your_path\n",
    "    csv_files = glob.glob(os.path.join(path, \"*.csv\"))\n",
    "\n",
    "    ### please change this to your directory  \n",
    "    df = pd.read_csv('/Users/h.s.a.li/Desktop/Taxi_CSV/60.csv')\n",
    "\n",
    "    df = df.drop(['Unnamed: 0','vendor_id','rate_code','store_and_fwd_flag'],axis=1)\n",
    "    final_columns = df.columns\n",
    "\n",
    "    # print(final_columns)\n",
    "    final_df = pd.DataFrame()\n",
    "\n",
    "    for i in range(len(csv_files)):\n",
    "        df = pd.read_csv(your_path+str(i)+'.csv')\n",
    "        col_names = df.columns\n",
    "\n",
    "        #2015-01\n",
    "        if 'VendorID' in col_names and 'RateCodeID' in col_names:\n",
    "            df = df.drop(['Unnamed: 0','VendorID','RateCodeID','store_and_fwd_flag'],axis=1)\n",
    "            df.rename(columns = {'tpep_pickup_datetime':'pickup_datetime', 'tpep_dropoff_datetime':'dropoff_datetime','improvement_surcharge':'surcharge'}, inplace = True)\n",
    "            final_df = final_df.append(df)\n",
    "\n",
    "        #2015-07\n",
    "        # changes: 'RatecodeID'\n",
    "        elif 'VendorID' in col_names and 'RatecodeID' in col_names: # 6.csv\n",
    "            df = df.drop(['Unnamed: 0','VendorID','RatecodeID','store_and_fwd_flag'],axis=1)\n",
    "            df.rename(columns = {'tpep_pickup_datetime':'pickup_datetime', 'tpep_dropoff_datetime':'dropoff_datetime','improvement_surcharge':'surcharge'}, inplace = True)\n",
    "            final_df = final_df.append(df)\n",
    "\n",
    "        #2014\n",
    "        # changes: ' rate_code',' store_and_fwd_flag'\n",
    "        elif 'vendor_id' in col_names and ' rate_code' in col_names:\n",
    "            df = df.drop(['Unnamed: 0','vendor_id',' rate_code',' store_and_fwd_flag'],axis=1)\n",
    "            df.columns = df.columns.str.strip()\n",
    "            df['extra'] = 0\n",
    "\n",
    "            final_df = final_df.append(df)\n",
    "\n",
    "        #2013\n",
    "        # changes: 'rate_code','store_and_fwd_flag'\n",
    "        elif 'vendor_id' in col_names and 'rate_code' in col_names:\n",
    "            df = df.drop(['Unnamed: 0','vendor_id','rate_code','store_and_fwd_flag'],axis=1)\n",
    "            df['extra'] = 0\n",
    "            final_df = final_df.append(df)\n",
    "\n",
    "        #2009\n",
    "        else:\n",
    "            df = df.drop(['Unnamed: 0','vendor_name'],axis=1)\n",
    "            df.rename(columns = {'Trip_Pickup_DateTime':'pickup_datetime', 'Trip_Dropoff_DateTime':'dropoff_datetime','Passenger_Count':'passenger_count','Trip_Distance':'trip_distance','Start_Lon':'pickup_longitude','Start_Lat':'pickup_latitude','End_Lon':'dropoff_longitude','End_Lat':'dropoff_latitude','Payment_Type':'payment_type','Fare_Amt':'fare_amount','Tip_Amt':'tip_amount','Tolls_Amt':'tolls_amount','Total_Amt':'total_amount'}, inplace = True)\n",
    "            df['mta_tax'] = 0\n",
    "            df['extra'] = 0\n",
    "            final_df = final_df.append(df)\n",
    "\n",
    "    ### please change this to your directory   \n",
    "    final_df.to_csv(your_path) \n",
    "    #'/Users/h.s.a.li/Desktop/final_csv.csv'\n",
    "\n",
    "path = input('please input your path')\n",
    "clean_taxi_csv(path)"
   ]
  },
  {
   "cell_type": "markdown",
   "id": "9e11312f",
   "metadata": {},
   "source": [
    "Because of runtime we did not combine functions that where getting the taxi data and that were cleaning the taxi data. \n",
    "\n",
    "<mark> The above code created a file from web scrapping called \"final_csv.csv\" that is attached to our project. The next functions can be runned using that file </mark>"
   ]
  },
  {
   "cell_type": "markdown",
   "id": "81baad76",
   "metadata": {},
   "source": [
    "## Part 1: Data Preprocessing - creating dataframes and cleaning data."
   ]
  },
  {
   "cell_type": "markdown",
   "id": "31b932d9",
   "metadata": {},
   "source": [
    "<mark> If you want to run our functions you can start from the next cell if you use final_csv.csv . To allow this we do a second project setup here </mark>"
   ]
  },
  {
   "cell_type": "code",
   "execution_count": 23,
   "id": "14f3de82",
   "metadata": {},
   "outputs": [],
   "source": [
    "import requests\n",
    "from bs4 import BeautifulSoup\n",
    "import pandas as pd\n",
    "import numpy as np\n",
    "import math\n",
    "import matplotlib.pyplot as plt\n",
    "import sqlalchemy as db\n",
    "import seaborn as sns\n",
    "\n",
    "uber_csv = \"uber_rides_sample.csv\"\n",
    "uber_df = pd.read_csv(uber_csv)\n",
    "DATABASE_URL = \"sqlite:///project.db\"\n",
    "DATABASE_SCHEMA_FILE = \"schema.sql\"\n",
    "QUERY_DIRECTORY = \"queries\"\n"
   ]
  },
  {
   "cell_type": "code",
   "execution_count": 24,
   "id": "4b4a2e0c",
   "metadata": {},
   "outputs": [],
   "source": [
    "# any constants you might need, for example:\n",
    "\n",
    "TAXI_URL = \"https://www1.nyc.gov/site/tlc/about/tlc-trip-record-data.page\"\n",
    "# add other constants to refer to any local data, e.g. uber & weather\n",
    "UBER_CSV = \"uber_rides_sample.csv\"\n",
    "\n",
    "NEW_YORK_BOX_COORDS = ((40.560445, -74.242330), (40.908524, -73.717047))\n",
    "JFK_BOX_COORDS= ((40.615506,-73.826022),(40.669280,-73.743984)) # Lat / Lng format , JFK airport coordinates\n",
    "LGA_BOX_COORDS= ((40.766103,-73.892017),(40.773705,-73.856404)) # Lat / Lng format , Laguardia airport coordinates\n",
    "EWR_BOX_COORDS= ((40.670081,-74.200241),(40.717049,-74.148753)) # Lat / Lng format , Newark airport coordinates\n"
   ]
  },
  {
   "cell_type": "markdown",
   "id": "1f657f8f",
   "metadata": {},
   "source": [
    "### Filtering taxi data based on coordinates\n",
    "We are now filtering on coordinates to keep only taxi rides in new york, we are also cleaning the data by removing columns that we are going to be using in the rest of the project"
   ]
  },
  {
   "cell_type": "code",
   "execution_count": 32,
   "id": "71a97fdf",
   "metadata": {},
   "outputs": [],
   "source": [
    "def cleaning_taxi_data(df):\n",
    "    \"\"\"\n",
    "    Clean the taxi data by further removing unneccessary rows that \n",
    "    we did not consider in the clean_taxi_csv function, which is our \n",
    "    first step of cleaning taxi dataframe\n",
    "    \n",
    "    Args:\n",
    "        dataframe (df): taxi dataframe\n",
    "        \n",
    "    Returns:\n",
    "        dataframe: 'cleaner' taxi dataframe\n",
    "    \"\"\"\n",
    "    df = df.drop(columns=[\"Unnamed: 0\",\"payment_type\",\n",
    "        \"fare_amount\",'tolls_amount','mta_tax','surcharge','extra','trip_distance','passenger_count'], errors=\"ignore\")\n",
    "    df = df[df.pickup_latitude <= NEW_YORK_BOX_COORDS[1][0]]\n",
    "    df = df[df.dropoff_latitude <= NEW_YORK_BOX_COORDS[1][0]]\n",
    "    df = df[df.pickup_latitude > NEW_YORK_BOX_COORDS[0][0]]\n",
    "    df = df[df.dropoff_latitude > NEW_YORK_BOX_COORDS[0][0]]\n",
    "    df = df[df.pickup_longitude <= NEW_YORK_BOX_COORDS[1][1]]\n",
    "    df = df[df.dropoff_longitude <= NEW_YORK_BOX_COORDS[1][1]]\n",
    "    df = df[df.pickup_longitude > NEW_YORK_BOX_COORDS[0][1]]\n",
    "    df = df[df.dropoff_latitude > NEW_YORK_BOX_COORDS[0][1]]\n",
    "    df[\"pickup_datetime\"] = pd.to_datetime(df[\"pickup_datetime\"], format=\"%Y-%m-%d %H:%M:%S\")\n",
    "    df[\"dropoff_datetime\"]=pd.to_datetime(df[\"dropoff_datetime\"], format=\"%Y-%m-%d %H:%M:%S\")\n",
    "    return df"
   ]
  },
  {
   "cell_type": "markdown",
   "id": "54c48107",
   "metadata": {},
   "source": [
    "### Calculating distance\n",
    "In this part we define all the distance functions that we will need later for data analysis. We use distance formulas from this website: https://stackoverflow.com/questions/27928/calculate-distance-between-two-latitude-longitude-points-haversine-formula"
   ]
  },
  {
   "cell_type": "code",
   "execution_count": 34,
   "id": "af855a13",
   "metadata": {},
   "outputs": [],
   "source": [
    "def calculate_distance(startCoord, endCoord):\n",
    "    \"\"\"\n",
    "    Calculate distance from two coordinates\n",
    "    \n",
    "    Args:\n",
    "        interger (int): integers of the coordinates taken from the row of the dataframe \n",
    "        \n",
    "    Returns:\n",
    "        dataframe: distance of each row\n",
    "    \"\"\"\n",
    "    R = 6371\n",
    "    startLat = math.radians(startCoord[0])\n",
    "    startLong = math.radians(startCoord[1])\n",
    "    endLat = math.radians(endCoord[0])\n",
    "    endLong = math.radians(endCoord[1])\n",
    "\n",
    "    dLong = endLong - startLong\n",
    "    dLat = endLat - startLat\n",
    "\n",
    "    a = (math.sin(dLat/2) * math.sin(dLat/2)+ math.cos(startLat) * math.cos(endLat) * math.sin(dLong/2) * math.sin(dLong/2))\n",
    "    c = 2 * math.atan2(math.sqrt(a), math.sqrt(1 - a))\n",
    "    distance = R * c\n",
    "    return distance\n",
    "\n",
    "def add_distance_column(df):    \n",
    "    \"\"\"add distance column to the dataframe of interest\n",
    "    \n",
    "    Args:\n",
    "        dataframe: either the taxi or uber data\n",
    "        \n",
    "    Returns:\n",
    "        dataframe: dataframe with distance\n",
    "    \"\"\"\n",
    "    from_coords = list(zip(df.pickup_latitude, df.pickup_longitude))\n",
    "    to_coords = list(zip(df.dropoff_latitude, df.dropoff_longitude))\n",
    "    \n",
    "    distance_list = []\n",
    "    for i in range(len(from_coords)):\n",
    "        distance = calculate_distance(from_coords[i], to_coords[i])\n",
    "        distance_list.append(distance)\n",
    "    df[\"distance\"] = distance_list\n",
    "    return df"
   ]
  },
  {
   "cell_type": "markdown",
   "id": "5847ee69",
   "metadata": {},
   "source": [
    "### Final Processing for Taxi Data."
   ]
  },
  {
   "cell_type": "markdown",
   "id": "675838a7",
   "metadata": {},
   "source": [
    "Final function we can call to build a clean and processed taxi dataframe from a sampled csv of taxi rides."
   ]
  },
  {
   "cell_type": "code",
   "execution_count": 35,
   "id": "fcc8e5a8",
   "metadata": {},
   "outputs": [],
   "source": [
    "def get_clean_and_process_taxi_data():\n",
    "    \"\"\"load and clean the  taxi data and add distance column\n",
    "    \n",
    "    Args:\n",
    "        string (str): path you would like to store all the CSVs at\n",
    "        \n",
    "    Returns:\n",
    "        dataframe: clean taxi dataframe\n",
    "    \"\"\"\n",
    "    taxi_df=pd.read_csv(\"final_csv.csv\")\n",
    "    taxi_df=cleaning_taxi_data(taxi_df)\n",
    "    taxi_df=add_distance_column(taxi_df)\n",
    "    return taxi_df"
   ]
  },
  {
   "cell_type": "markdown",
   "id": "094b4d6d",
   "metadata": {},
   "source": [
    "### Processing Uber Data\n",
    "\n",
    "In the next few cells we fine the functions that we will call to create the cleaned and processed dataframe of uber rides"
   ]
  },
  {
   "cell_type": "code",
   "execution_count": 40,
   "id": "22d1850c",
   "metadata": {},
   "outputs": [],
   "source": [
    "uberCSV=\"./uber_rides_sample.csv\"\n",
    "\n",
    "def load_and_clean_uber_data(csv_file):\n",
    "    \"\"\"\n",
    "    load and clean the uber data from Uber CSV file\n",
    "    \n",
    "    Args:\n",
    "        csv: path of the uber data\n",
    "        \n",
    "    Returns:\n",
    "        dataframe: clean uber dataframe\n",
    "         \n",
    "    \"\"\"\n",
    "    df = pd.read_csv(csv_file)\n",
    "    df.drop(columns=[\"Unnamed: 0\",\"key\"], inplace=True)\n",
    "    \n",
    "    df = df[df.pickup_latitude <= NEW_YORK_BOX_COORDS[1][0]]\n",
    "    df = df[df.dropoff_latitude <= NEW_YORK_BOX_COORDS[1][0]]\n",
    "    df = df[df.pickup_latitude > NEW_YORK_BOX_COORDS[0][0]]\n",
    "    df = df[df.dropoff_latitude > NEW_YORK_BOX_COORDS[0][0]]\n",
    "\n",
    "    df = df[df.pickup_longitude <= NEW_YORK_BOX_COORDS[1][1]]\n",
    "    df = df[df.dropoff_longitude <= NEW_YORK_BOX_COORDS[1][1]]\n",
    "    df = df[df.pickup_longitude > NEW_YORK_BOX_COORDS[0][1]]\n",
    "    df = df[df.dropoff_latitude > NEW_YORK_BOX_COORDS[0][1]]\n",
    "    \n",
    "    df = df[df.passenger_count > 0]\n",
    "    df.drop(columns=[\"passenger_count\"], inplace=True)\n",
    "    \n",
    "    df[\"pickup_datetime\"] = pd.to_datetime(\n",
    "        df[\"pickup_datetime\"], format=\"%Y-%m-%d %H:%M:%S UTC\"\n",
    "    )\n",
    "    \n",
    "    df = df.rename(columns={\"fare_amount\": \"total_amount\"})\n",
    "    \n",
    "    return df \n",
    "\n",
    "def get_uber_data():\n",
    "    \"\"\"get uber data\n",
    "        \n",
    "    Returns:\n",
    "        dataframe: uber dataframe\n",
    "         \n",
    "    \"\"\"\n",
    "    uberDf = load_and_clean_uber_data(uberCSV)\n",
    "    add_distance_column(uberDf)\n",
    "    return uberDf"
   ]
  },
  {
   "cell_type": "markdown",
   "id": "45a15cbb",
   "metadata": {},
   "source": [
    "### Processing Weather Data\n",
    "\n",
    "In this part we are processing the weather data "
   ]
  },
  {
   "cell_type": "code",
   "execution_count": 41,
   "id": "76e864ab",
   "metadata": {},
   "outputs": [],
   "source": [
    "def clean_month_weather_data_hourly(data):\n",
    "    \"\"\"Clean the hourly weather data \n",
    "    \n",
    "    Args:\n",
    "        dataframe: dataframe of hourly weather data\n",
    "        \n",
    "    Returns:\n",
    "        dataframe: clean hourly weather dataframe\n",
    "         \n",
    "    \"\"\"\n",
    "    data_hourly=data[['DATE','HourlyWindSpeed','HourlyPrecipitation']]\n",
    "    data_hourly.rename(columns={'DATE': \"Date\", \"HourlyWindSpeed\": \"Wind_speed\", \"HourlyPrecipitation\": \"Precipitation\"},inplace=True)\n",
    "    data_hourly[\"Date\"] = pd.to_datetime(data_hourly[\"Date\"], format=\"%Y-%m-%dT%H:%M:%S\")\n",
    "    data_hourly[\"Precipitation\"] = pd.to_numeric(data_hourly[\"Precipitation\"], errors=\"coerce\")\n",
    "    data_hourly.dropna(subset=[\"Wind_speed\"], inplace=True)\n",
    "    return data_hourly\n",
    "    \n",
    "    \n",
    "def clean_month_weather_data_daily(data):\n",
    "    \"\"\"Clean the monthly weather data \n",
    "    \n",
    "    Args:\n",
    "        dataframe: dataframe of monthly weather data\n",
    "        \n",
    "    Returns:\n",
    "        dataframe: clean monthly weather dataframe\n",
    "        \n",
    "    \"\"\" \n",
    "    data_daily=data[['DATE','DailyAverageWindSpeed']]\n",
    "    data_daily.rename(columns={'DATE': \"Date\", \"DailyAverageWindSpeed\": \"Wind_speed\"},inplace=True)\n",
    "    data_daily[\"Date\"] = pd.to_datetime(data_daily[\"Date\"], format=\"%Y-%m-%dT%H:%M:%S\")\n",
    "    data_daily[\"Wind_speed\"] = pd.to_numeric(data_daily[\"Wind_speed\"], errors=\"coerce\")\n",
    "    data_daily.dropna(subset=[\"Wind_speed\"], inplace=True)\n",
    "    return data_daily\n",
    "    \n",
    "\n",
    "def load_and_clean_weather_data():\n",
    "    \"\"\"Load and clean the weather data \n",
    "        \n",
    "    Returns:\n",
    "        dataframe: weather dataframes filtered by years\n",
    "         \n",
    "    \"\"\"    \n",
    "    hourly_dataframes = []\n",
    "    daily_dataframes = []\n",
    "    years=[\"2009\",\"2010\",\"2011\",\"2012\",\"2013\",\"2014\",\"2015\"] # to answer questions from part 3 we only need data from this two years.\n",
    "    list_df=[]\n",
    "    for year in years:\n",
    "        filename=\"%s_weather.csv\" % (str(year))\n",
    "        data=pd.read_csv(filename)\n",
    "        list_df.append(data)\n",
    "    data=pd.concat(list_df,ignore_index=True)\n",
    "    hourly_data = clean_month_weather_data_hourly(data)\n",
    "    daily_data = clean_month_weather_data_daily(data)\n",
    "    return hourly_data, daily_data"
   ]
  },
  {
   "cell_type": "markdown",
   "id": "f900f7aa",
   "metadata": {},
   "source": [
    "### Process All Data\n",
    "\n",
    "Here all the previous functions that we are defined are called to created the four final dataframes that we are gonna use to populate our databases\n"
   ]
  },
  {
   "cell_type": "code",
   "execution_count": 47,
   "id": "f7cd53a6",
   "metadata": {},
   "outputs": [
    {
     "name": "stderr",
     "output_type": "stream",
     "text": [
      "C:\\Users\\arnau\\AppData\\Local\\Temp\\ipykernel_27312\\85067391.py:1: DtypeWarning: Columns (9) have mixed types.Specify dtype option on import or set low_memory=False.\n",
      "  taxi_data = get_clean_and_process_taxi_data()\n",
      "C:\\Users\\arnau\\AppData\\Local\\Temp\\ipykernel_27312\\85067391.py:3: DtypeWarning: Columns (9,13) have mixed types.Specify dtype option on import or set low_memory=False.\n",
      "  hourly_weather, daily_weather = load_and_clean_weather_data()\n",
      "C:\\Users\\arnau\\AppData\\Local\\Temp\\ipykernel_27312\\85067391.py:3: DtypeWarning: Columns (8,9,10,17) have mixed types.Specify dtype option on import or set low_memory=False.\n",
      "  hourly_weather, daily_weather = load_and_clean_weather_data()\n",
      "C:\\Users\\arnau\\AppData\\Local\\Temp\\ipykernel_27312\\85067391.py:3: DtypeWarning: Columns (10) have mixed types.Specify dtype option on import or set low_memory=False.\n",
      "  hourly_weather, daily_weather = load_and_clean_weather_data()\n",
      "C:\\Users\\arnau\\AppData\\Local\\Temp\\ipykernel_27312\\85067391.py:3: DtypeWarning: Columns (7,8,9,10,17,18,42,65) have mixed types.Specify dtype option on import or set low_memory=False.\n",
      "  hourly_weather, daily_weather = load_and_clean_weather_data()\n",
      "C:\\Users\\arnau\\AppData\\Local\\Temp\\ipykernel_27312\\85067391.py:3: DtypeWarning: Columns (17,78) have mixed types.Specify dtype option on import or set low_memory=False.\n",
      "  hourly_weather, daily_weather = load_and_clean_weather_data()\n",
      "C:\\Users\\arnau\\AppData\\Local\\Temp\\ipykernel_27312\\85067391.py:3: DtypeWarning: Columns (8,9,17,18,78) have mixed types.Specify dtype option on import or set low_memory=False.\n",
      "  hourly_weather, daily_weather = load_and_clean_weather_data()\n",
      "C:\\Users\\arnau\\AppData\\Local\\Temp\\ipykernel_27312\\85067391.py:3: DtypeWarning: Columns (10,41,78) have mixed types.Specify dtype option on import or set low_memory=False.\n",
      "  hourly_weather, daily_weather = load_and_clean_weather_data()\n",
      "C:\\Users\\arnau\\AppData\\Local\\Programs\\Python\\Python310\\lib\\site-packages\\pandas\\core\\frame.py:5039: SettingWithCopyWarning: \n",
      "A value is trying to be set on a copy of a slice from a DataFrame\n",
      "\n",
      "See the caveats in the documentation: https://pandas.pydata.org/pandas-docs/stable/user_guide/indexing.html#returning-a-view-versus-a-copy\n",
      "  return super().rename(\n",
      "C:\\Users\\arnau\\AppData\\Local\\Temp\\ipykernel_27312\\3363032664.py:13: SettingWithCopyWarning: \n",
      "A value is trying to be set on a copy of a slice from a DataFrame.\n",
      "Try using .loc[row_indexer,col_indexer] = value instead\n",
      "\n",
      "See the caveats in the documentation: https://pandas.pydata.org/pandas-docs/stable/user_guide/indexing.html#returning-a-view-versus-a-copy\n",
      "  data_hourly[\"Date\"] = pd.to_datetime(data_hourly[\"Date\"], format=\"%Y-%m-%dT%H:%M:%S\")\n",
      "C:\\Users\\arnau\\AppData\\Local\\Temp\\ipykernel_27312\\3363032664.py:14: SettingWithCopyWarning: \n",
      "A value is trying to be set on a copy of a slice from a DataFrame.\n",
      "Try using .loc[row_indexer,col_indexer] = value instead\n",
      "\n",
      "See the caveats in the documentation: https://pandas.pydata.org/pandas-docs/stable/user_guide/indexing.html#returning-a-view-versus-a-copy\n",
      "  data_hourly[\"Precipitation\"] = pd.to_numeric(data_hourly[\"Precipitation\"], errors=\"coerce\")\n",
      "C:\\Users\\arnau\\AppData\\Local\\Programs\\Python\\Python310\\lib\\site-packages\\pandas\\util\\_decorators.py:311: SettingWithCopyWarning: \n",
      "A value is trying to be set on a copy of a slice from a DataFrame\n",
      "\n",
      "See the caveats in the documentation: https://pandas.pydata.org/pandas-docs/stable/user_guide/indexing.html#returning-a-view-versus-a-copy\n",
      "  return func(*args, **kwargs)\n",
      "C:\\Users\\arnau\\AppData\\Local\\Temp\\ipykernel_27312\\3363032664.py:31: SettingWithCopyWarning: \n",
      "A value is trying to be set on a copy of a slice from a DataFrame.\n",
      "Try using .loc[row_indexer,col_indexer] = value instead\n",
      "\n",
      "See the caveats in the documentation: https://pandas.pydata.org/pandas-docs/stable/user_guide/indexing.html#returning-a-view-versus-a-copy\n",
      "  data_daily[\"Date\"] = pd.to_datetime(data_daily[\"Date\"], format=\"%Y-%m-%dT%H:%M:%S\")\n",
      "C:\\Users\\arnau\\AppData\\Local\\Temp\\ipykernel_27312\\3363032664.py:32: SettingWithCopyWarning: \n",
      "A value is trying to be set on a copy of a slice from a DataFrame.\n",
      "Try using .loc[row_indexer,col_indexer] = value instead\n",
      "\n",
      "See the caveats in the documentation: https://pandas.pydata.org/pandas-docs/stable/user_guide/indexing.html#returning-a-view-versus-a-copy\n",
      "  data_daily[\"Wind_speed\"] = pd.to_numeric(data_daily[\"Wind_speed\"], errors=\"coerce\")\n"
     ]
    }
   ],
   "source": [
    "taxi_data = get_clean_and_process_taxi_data()\n",
    "uber_data = get_uber_data()\n",
    "hourly_weather, daily_weather = load_and_clean_weather_data()"
   ]
  },
  {
   "cell_type": "code",
   "execution_count": 48,
   "id": "e2bdee93",
   "metadata": {},
   "outputs": [
    {
     "data": {
      "text/html": [
       "<div>\n",
       "<style scoped>\n",
       "    .dataframe tbody tr th:only-of-type {\n",
       "        vertical-align: middle;\n",
       "    }\n",
       "\n",
       "    .dataframe tbody tr th {\n",
       "        vertical-align: top;\n",
       "    }\n",
       "\n",
       "    .dataframe thead th {\n",
       "        text-align: right;\n",
       "    }\n",
       "</style>\n",
       "<table border=\"1\" class=\"dataframe\">\n",
       "  <thead>\n",
       "    <tr style=\"text-align: right;\">\n",
       "      <th></th>\n",
       "      <th>total_amount</th>\n",
       "      <th>pickup_datetime</th>\n",
       "      <th>pickup_longitude</th>\n",
       "      <th>pickup_latitude</th>\n",
       "      <th>dropoff_longitude</th>\n",
       "      <th>dropoff_latitude</th>\n",
       "      <th>distance</th>\n",
       "    </tr>\n",
       "  </thead>\n",
       "  <tbody>\n",
       "    <tr>\n",
       "      <th>0</th>\n",
       "      <td>7.5</td>\n",
       "      <td>2015-05-07 19:52:06</td>\n",
       "      <td>-73.999817</td>\n",
       "      <td>40.738354</td>\n",
       "      <td>-73.999512</td>\n",
       "      <td>40.723217</td>\n",
       "      <td>1.683323</td>\n",
       "    </tr>\n",
       "    <tr>\n",
       "      <th>1</th>\n",
       "      <td>7.7</td>\n",
       "      <td>2009-07-17 20:04:56</td>\n",
       "      <td>-73.994355</td>\n",
       "      <td>40.728225</td>\n",
       "      <td>-73.994710</td>\n",
       "      <td>40.750325</td>\n",
       "      <td>2.457590</td>\n",
       "    </tr>\n",
       "    <tr>\n",
       "      <th>2</th>\n",
       "      <td>12.9</td>\n",
       "      <td>2009-08-24 21:45:00</td>\n",
       "      <td>-74.005043</td>\n",
       "      <td>40.740770</td>\n",
       "      <td>-73.962565</td>\n",
       "      <td>40.772647</td>\n",
       "      <td>5.036377</td>\n",
       "    </tr>\n",
       "    <tr>\n",
       "      <th>3</th>\n",
       "      <td>5.3</td>\n",
       "      <td>2009-06-26 08:22:21</td>\n",
       "      <td>-73.976124</td>\n",
       "      <td>40.790844</td>\n",
       "      <td>-73.965316</td>\n",
       "      <td>40.803349</td>\n",
       "      <td>1.661683</td>\n",
       "    </tr>\n",
       "    <tr>\n",
       "      <th>4</th>\n",
       "      <td>16.0</td>\n",
       "      <td>2014-08-28 17:47:00</td>\n",
       "      <td>-73.925023</td>\n",
       "      <td>40.744085</td>\n",
       "      <td>-73.973082</td>\n",
       "      <td>40.761247</td>\n",
       "      <td>4.475450</td>\n",
       "    </tr>\n",
       "    <tr>\n",
       "      <th>...</th>\n",
       "      <td>...</td>\n",
       "      <td>...</td>\n",
       "      <td>...</td>\n",
       "      <td>...</td>\n",
       "      <td>...</td>\n",
       "      <td>...</td>\n",
       "      <td>...</td>\n",
       "    </tr>\n",
       "    <tr>\n",
       "      <th>199995</th>\n",
       "      <td>3.0</td>\n",
       "      <td>2012-10-28 10:49:00</td>\n",
       "      <td>-73.987042</td>\n",
       "      <td>40.739367</td>\n",
       "      <td>-73.986525</td>\n",
       "      <td>40.740297</td>\n",
       "      <td>0.112210</td>\n",
       "    </tr>\n",
       "    <tr>\n",
       "      <th>199996</th>\n",
       "      <td>7.5</td>\n",
       "      <td>2014-03-14 01:09:00</td>\n",
       "      <td>-73.984722</td>\n",
       "      <td>40.736837</td>\n",
       "      <td>-74.006672</td>\n",
       "      <td>40.739620</td>\n",
       "      <td>1.875050</td>\n",
       "    </tr>\n",
       "    <tr>\n",
       "      <th>199997</th>\n",
       "      <td>30.9</td>\n",
       "      <td>2009-06-29 00:42:00</td>\n",
       "      <td>-73.986017</td>\n",
       "      <td>40.756487</td>\n",
       "      <td>-73.858957</td>\n",
       "      <td>40.692588</td>\n",
       "      <td>12.850319</td>\n",
       "    </tr>\n",
       "    <tr>\n",
       "      <th>199998</th>\n",
       "      <td>14.5</td>\n",
       "      <td>2015-05-20 14:56:25</td>\n",
       "      <td>-73.997124</td>\n",
       "      <td>40.725452</td>\n",
       "      <td>-73.983215</td>\n",
       "      <td>40.695415</td>\n",
       "      <td>3.539715</td>\n",
       "    </tr>\n",
       "    <tr>\n",
       "      <th>199999</th>\n",
       "      <td>14.1</td>\n",
       "      <td>2010-05-15 04:08:00</td>\n",
       "      <td>-73.984395</td>\n",
       "      <td>40.720077</td>\n",
       "      <td>-73.985508</td>\n",
       "      <td>40.768793</td>\n",
       "      <td>5.417783</td>\n",
       "    </tr>\n",
       "  </tbody>\n",
       "</table>\n",
       "<p>194796 rows × 7 columns</p>\n",
       "</div>"
      ],
      "text/plain": [
       "        total_amount     pickup_datetime  pickup_longitude  pickup_latitude  \\\n",
       "0                7.5 2015-05-07 19:52:06        -73.999817        40.738354   \n",
       "1                7.7 2009-07-17 20:04:56        -73.994355        40.728225   \n",
       "2               12.9 2009-08-24 21:45:00        -74.005043        40.740770   \n",
       "3                5.3 2009-06-26 08:22:21        -73.976124        40.790844   \n",
       "4               16.0 2014-08-28 17:47:00        -73.925023        40.744085   \n",
       "...              ...                 ...               ...              ...   \n",
       "199995           3.0 2012-10-28 10:49:00        -73.987042        40.739367   \n",
       "199996           7.5 2014-03-14 01:09:00        -73.984722        40.736837   \n",
       "199997          30.9 2009-06-29 00:42:00        -73.986017        40.756487   \n",
       "199998          14.5 2015-05-20 14:56:25        -73.997124        40.725452   \n",
       "199999          14.1 2010-05-15 04:08:00        -73.984395        40.720077   \n",
       "\n",
       "        dropoff_longitude  dropoff_latitude   distance  \n",
       "0              -73.999512         40.723217   1.683323  \n",
       "1              -73.994710         40.750325   2.457590  \n",
       "2              -73.962565         40.772647   5.036377  \n",
       "3              -73.965316         40.803349   1.661683  \n",
       "4              -73.973082         40.761247   4.475450  \n",
       "...                   ...               ...        ...  \n",
       "199995         -73.986525         40.740297   0.112210  \n",
       "199996         -74.006672         40.739620   1.875050  \n",
       "199997         -73.858957         40.692588  12.850319  \n",
       "199998         -73.983215         40.695415   3.539715  \n",
       "199999         -73.985508         40.768793   5.417783  \n",
       "\n",
       "[194796 rows x 7 columns]"
      ]
     },
     "execution_count": 48,
     "metadata": {},
     "output_type": "execute_result"
    }
   ],
   "source": [
    "uber_data"
   ]
  },
  {
   "cell_type": "code",
   "execution_count": 49,
   "id": "99b89a7e",
   "metadata": {},
   "outputs": [
    {
     "data": {
      "text/html": [
       "<div>\n",
       "<style scoped>\n",
       "    .dataframe tbody tr th:only-of-type {\n",
       "        vertical-align: middle;\n",
       "    }\n",
       "\n",
       "    .dataframe tbody tr th {\n",
       "        vertical-align: top;\n",
       "    }\n",
       "\n",
       "    .dataframe thead th {\n",
       "        text-align: right;\n",
       "    }\n",
       "</style>\n",
       "<table border=\"1\" class=\"dataframe\">\n",
       "  <thead>\n",
       "    <tr style=\"text-align: right;\">\n",
       "      <th></th>\n",
       "      <th>pickup_datetime</th>\n",
       "      <th>dropoff_datetime</th>\n",
       "      <th>pickup_longitude</th>\n",
       "      <th>pickup_latitude</th>\n",
       "      <th>dropoff_longitude</th>\n",
       "      <th>dropoff_latitude</th>\n",
       "      <th>tip_amount</th>\n",
       "      <th>total_amount</th>\n",
       "      <th>distance</th>\n",
       "    </tr>\n",
       "  </thead>\n",
       "  <tbody>\n",
       "    <tr>\n",
       "      <th>0</th>\n",
       "      <td>2015-01-12 19:55:41</td>\n",
       "      <td>2015-01-12 20:00:12</td>\n",
       "      <td>-73.960052</td>\n",
       "      <td>40.773651</td>\n",
       "      <td>-73.954689</td>\n",
       "      <td>40.787605</td>\n",
       "      <td>0.00</td>\n",
       "      <td>7.80</td>\n",
       "      <td>1.616014</td>\n",
       "    </tr>\n",
       "    <tr>\n",
       "      <th>1</th>\n",
       "      <td>2015-01-19 16:03:09</td>\n",
       "      <td>2015-01-19 16:30:12</td>\n",
       "      <td>-73.993454</td>\n",
       "      <td>40.751938</td>\n",
       "      <td>-73.959129</td>\n",
       "      <td>40.709087</td>\n",
       "      <td>4.86</td>\n",
       "      <td>29.16</td>\n",
       "      <td>5.573878</td>\n",
       "    </tr>\n",
       "    <tr>\n",
       "      <th>2</th>\n",
       "      <td>2015-01-06 00:20:40</td>\n",
       "      <td>2015-01-06 00:45:44</td>\n",
       "      <td>-74.000008</td>\n",
       "      <td>40.730648</td>\n",
       "      <td>-73.953262</td>\n",
       "      <td>40.634659</td>\n",
       "      <td>6.15</td>\n",
       "      <td>36.95</td>\n",
       "      <td>11.378085</td>\n",
       "    </tr>\n",
       "    <tr>\n",
       "      <th>3</th>\n",
       "      <td>2015-01-27 18:23:24</td>\n",
       "      <td>2015-01-27 18:31:04</td>\n",
       "      <td>-73.983124</td>\n",
       "      <td>40.759251</td>\n",
       "      <td>-73.963188</td>\n",
       "      <td>40.771111</td>\n",
       "      <td>0.00</td>\n",
       "      <td>9.30</td>\n",
       "      <td>2.134940</td>\n",
       "    </tr>\n",
       "    <tr>\n",
       "      <th>4</th>\n",
       "      <td>2015-01-16 19:39:58</td>\n",
       "      <td>2015-01-16 19:55:13</td>\n",
       "      <td>-73.976830</td>\n",
       "      <td>40.743610</td>\n",
       "      <td>-74.000648</td>\n",
       "      <td>40.747334</td>\n",
       "      <td>0.00</td>\n",
       "      <td>12.80</td>\n",
       "      <td>2.048847</td>\n",
       "    </tr>\n",
       "    <tr>\n",
       "      <th>...</th>\n",
       "      <td>...</td>\n",
       "      <td>...</td>\n",
       "      <td>...</td>\n",
       "      <td>...</td>\n",
       "      <td>...</td>\n",
       "      <td>...</td>\n",
       "      <td>...</td>\n",
       "      <td>...</td>\n",
       "      <td>...</td>\n",
       "    </tr>\n",
       "    <tr>\n",
       "      <th>251995</th>\n",
       "      <td>2009-12-22 17:47:00</td>\n",
       "      <td>2009-12-22 18:13:00</td>\n",
       "      <td>-73.974413</td>\n",
       "      <td>40.737962</td>\n",
       "      <td>-73.970440</td>\n",
       "      <td>40.757633</td>\n",
       "      <td>0.00</td>\n",
       "      <td>14.00</td>\n",
       "      <td>2.212773</td>\n",
       "    </tr>\n",
       "    <tr>\n",
       "      <th>251996</th>\n",
       "      <td>2009-12-17 16:57:24</td>\n",
       "      <td>2009-12-17 17:06:36</td>\n",
       "      <td>-73.964066</td>\n",
       "      <td>40.771085</td>\n",
       "      <td>-73.964870</td>\n",
       "      <td>40.763823</td>\n",
       "      <td>0.00</td>\n",
       "      <td>7.60</td>\n",
       "      <td>0.810331</td>\n",
       "    </tr>\n",
       "    <tr>\n",
       "      <th>251997</th>\n",
       "      <td>2009-12-14 15:07:00</td>\n",
       "      <td>2009-12-14 15:27:00</td>\n",
       "      <td>-73.998565</td>\n",
       "      <td>40.733537</td>\n",
       "      <td>-73.981293</td>\n",
       "      <td>40.771050</td>\n",
       "      <td>2.00</td>\n",
       "      <td>14.60</td>\n",
       "      <td>4.417703</td>\n",
       "    </tr>\n",
       "    <tr>\n",
       "      <th>251998</th>\n",
       "      <td>2009-12-25 15:44:00</td>\n",
       "      <td>2009-12-25 16:01:00</td>\n",
       "      <td>-74.004050</td>\n",
       "      <td>40.716750</td>\n",
       "      <td>-73.992430</td>\n",
       "      <td>40.745353</td>\n",
       "      <td>0.00</td>\n",
       "      <td>12.60</td>\n",
       "      <td>3.327808</td>\n",
       "    </tr>\n",
       "    <tr>\n",
       "      <th>251999</th>\n",
       "      <td>2009-12-15 17:43:37</td>\n",
       "      <td>2009-12-15 17:49:18</td>\n",
       "      <td>-74.005698</td>\n",
       "      <td>40.750951</td>\n",
       "      <td>-73.995831</td>\n",
       "      <td>40.741477</td>\n",
       "      <td>0.00</td>\n",
       "      <td>6.80</td>\n",
       "      <td>1.341902</td>\n",
       "    </tr>\n",
       "  </tbody>\n",
       "</table>\n",
       "<p>247025 rows × 9 columns</p>\n",
       "</div>"
      ],
      "text/plain": [
       "           pickup_datetime    dropoff_datetime  pickup_longitude  \\\n",
       "0      2015-01-12 19:55:41 2015-01-12 20:00:12        -73.960052   \n",
       "1      2015-01-19 16:03:09 2015-01-19 16:30:12        -73.993454   \n",
       "2      2015-01-06 00:20:40 2015-01-06 00:45:44        -74.000008   \n",
       "3      2015-01-27 18:23:24 2015-01-27 18:31:04        -73.983124   \n",
       "4      2015-01-16 19:39:58 2015-01-16 19:55:13        -73.976830   \n",
       "...                    ...                 ...               ...   \n",
       "251995 2009-12-22 17:47:00 2009-12-22 18:13:00        -73.974413   \n",
       "251996 2009-12-17 16:57:24 2009-12-17 17:06:36        -73.964066   \n",
       "251997 2009-12-14 15:07:00 2009-12-14 15:27:00        -73.998565   \n",
       "251998 2009-12-25 15:44:00 2009-12-25 16:01:00        -74.004050   \n",
       "251999 2009-12-15 17:43:37 2009-12-15 17:49:18        -74.005698   \n",
       "\n",
       "        pickup_latitude  dropoff_longitude  dropoff_latitude  tip_amount  \\\n",
       "0             40.773651         -73.954689         40.787605        0.00   \n",
       "1             40.751938         -73.959129         40.709087        4.86   \n",
       "2             40.730648         -73.953262         40.634659        6.15   \n",
       "3             40.759251         -73.963188         40.771111        0.00   \n",
       "4             40.743610         -74.000648         40.747334        0.00   \n",
       "...                 ...                ...               ...         ...   \n",
       "251995        40.737962         -73.970440         40.757633        0.00   \n",
       "251996        40.771085         -73.964870         40.763823        0.00   \n",
       "251997        40.733537         -73.981293         40.771050        2.00   \n",
       "251998        40.716750         -73.992430         40.745353        0.00   \n",
       "251999        40.750951         -73.995831         40.741477        0.00   \n",
       "\n",
       "        total_amount   distance  \n",
       "0               7.80   1.616014  \n",
       "1              29.16   5.573878  \n",
       "2              36.95  11.378085  \n",
       "3               9.30   2.134940  \n",
       "4              12.80   2.048847  \n",
       "...              ...        ...  \n",
       "251995         14.00   2.212773  \n",
       "251996          7.60   0.810331  \n",
       "251997         14.60   4.417703  \n",
       "251998         12.60   3.327808  \n",
       "251999          6.80   1.341902  \n",
       "\n",
       "[247025 rows x 9 columns]"
      ]
     },
     "execution_count": 49,
     "metadata": {},
     "output_type": "execute_result"
    }
   ],
   "source": [
    "taxi_data"
   ]
  },
  {
   "cell_type": "code",
   "execution_count": 50,
   "id": "99564434",
   "metadata": {},
   "outputs": [
    {
     "data": {
      "text/html": [
       "<div>\n",
       "<style scoped>\n",
       "    .dataframe tbody tr th:only-of-type {\n",
       "        vertical-align: middle;\n",
       "    }\n",
       "\n",
       "    .dataframe tbody tr th {\n",
       "        vertical-align: top;\n",
       "    }\n",
       "\n",
       "    .dataframe thead th {\n",
       "        text-align: right;\n",
       "    }\n",
       "</style>\n",
       "<table border=\"1\" class=\"dataframe\">\n",
       "  <thead>\n",
       "    <tr style=\"text-align: right;\">\n",
       "      <th></th>\n",
       "      <th>Date</th>\n",
       "      <th>Wind_speed</th>\n",
       "      <th>Precipitation</th>\n",
       "    </tr>\n",
       "  </thead>\n",
       "  <tbody>\n",
       "    <tr>\n",
       "      <th>0</th>\n",
       "      <td>2009-01-01 00:51:00</td>\n",
       "      <td>18.0</td>\n",
       "      <td>NaN</td>\n",
       "    </tr>\n",
       "    <tr>\n",
       "      <th>1</th>\n",
       "      <td>2009-01-01 01:51:00</td>\n",
       "      <td>18.0</td>\n",
       "      <td>NaN</td>\n",
       "    </tr>\n",
       "    <tr>\n",
       "      <th>2</th>\n",
       "      <td>2009-01-01 02:51:00</td>\n",
       "      <td>18.0</td>\n",
       "      <td>NaN</td>\n",
       "    </tr>\n",
       "    <tr>\n",
       "      <th>3</th>\n",
       "      <td>2009-01-01 03:51:00</td>\n",
       "      <td>8.0</td>\n",
       "      <td>NaN</td>\n",
       "    </tr>\n",
       "    <tr>\n",
       "      <th>4</th>\n",
       "      <td>2009-01-01 04:51:00</td>\n",
       "      <td>11.0</td>\n",
       "      <td>NaN</td>\n",
       "    </tr>\n",
       "    <tr>\n",
       "      <th>...</th>\n",
       "      <td>...</td>\n",
       "      <td>...</td>\n",
       "      <td>...</td>\n",
       "    </tr>\n",
       "    <tr>\n",
       "      <th>77964</th>\n",
       "      <td>2015-12-31 18:51:00</td>\n",
       "      <td>3.0</td>\n",
       "      <td>0.0</td>\n",
       "    </tr>\n",
       "    <tr>\n",
       "      <th>77965</th>\n",
       "      <td>2015-12-31 19:51:00</td>\n",
       "      <td>6.0</td>\n",
       "      <td>0.0</td>\n",
       "    </tr>\n",
       "    <tr>\n",
       "      <th>77966</th>\n",
       "      <td>2015-12-31 20:51:00</td>\n",
       "      <td>10.0</td>\n",
       "      <td>0.0</td>\n",
       "    </tr>\n",
       "    <tr>\n",
       "      <th>77968</th>\n",
       "      <td>2015-12-31 22:51:00</td>\n",
       "      <td>7.0</td>\n",
       "      <td>0.0</td>\n",
       "    </tr>\n",
       "    <tr>\n",
       "      <th>77969</th>\n",
       "      <td>2015-12-31 23:51:00</td>\n",
       "      <td>5.0</td>\n",
       "      <td>0.0</td>\n",
       "    </tr>\n",
       "  </tbody>\n",
       "</table>\n",
       "<p>73713 rows × 3 columns</p>\n",
       "</div>"
      ],
      "text/plain": [
       "                     Date  Wind_speed  Precipitation\n",
       "0     2009-01-01 00:51:00        18.0            NaN\n",
       "1     2009-01-01 01:51:00        18.0            NaN\n",
       "2     2009-01-01 02:51:00        18.0            NaN\n",
       "3     2009-01-01 03:51:00         8.0            NaN\n",
       "4     2009-01-01 04:51:00        11.0            NaN\n",
       "...                   ...         ...            ...\n",
       "77964 2015-12-31 18:51:00         3.0            0.0\n",
       "77965 2015-12-31 19:51:00         6.0            0.0\n",
       "77966 2015-12-31 20:51:00        10.0            0.0\n",
       "77968 2015-12-31 22:51:00         7.0            0.0\n",
       "77969 2015-12-31 23:51:00         5.0            0.0\n",
       "\n",
       "[73713 rows x 3 columns]"
      ]
     },
     "execution_count": 50,
     "metadata": {},
     "output_type": "execute_result"
    }
   ],
   "source": [
    "hourly_weather"
   ]
  },
  {
   "cell_type": "code",
   "execution_count": 51,
   "id": "aa270983",
   "metadata": {},
   "outputs": [
    {
     "data": {
      "text/html": [
       "<div>\n",
       "<style scoped>\n",
       "    .dataframe tbody tr th:only-of-type {\n",
       "        vertical-align: middle;\n",
       "    }\n",
       "\n",
       "    .dataframe tbody tr th {\n",
       "        vertical-align: top;\n",
       "    }\n",
       "\n",
       "    .dataframe thead th {\n",
       "        text-align: right;\n",
       "    }\n",
       "</style>\n",
       "<table border=\"1\" class=\"dataframe\">\n",
       "  <thead>\n",
       "    <tr style=\"text-align: right;\">\n",
       "      <th></th>\n",
       "      <th>Date</th>\n",
       "      <th>Wind_speed</th>\n",
       "    </tr>\n",
       "  </thead>\n",
       "  <tbody>\n",
       "    <tr>\n",
       "      <th>38717</th>\n",
       "      <td>2012-07-31 23:59:00</td>\n",
       "      <td>3.8</td>\n",
       "    </tr>\n",
       "    <tr>\n",
       "      <th>38771</th>\n",
       "      <td>2012-08-01 23:59:00</td>\n",
       "      <td>2.3</td>\n",
       "    </tr>\n",
       "    <tr>\n",
       "      <th>38797</th>\n",
       "      <td>2012-08-02 23:59:00</td>\n",
       "      <td>2.7</td>\n",
       "    </tr>\n",
       "    <tr>\n",
       "      <th>38823</th>\n",
       "      <td>2012-08-03 23:59:00</td>\n",
       "      <td>3.5</td>\n",
       "    </tr>\n",
       "    <tr>\n",
       "      <th>38856</th>\n",
       "      <td>2012-08-04 23:59:00</td>\n",
       "      <td>3.1</td>\n",
       "    </tr>\n",
       "    <tr>\n",
       "      <th>...</th>\n",
       "      <td>...</td>\n",
       "      <td>...</td>\n",
       "    </tr>\n",
       "    <tr>\n",
       "      <th>77823</th>\n",
       "      <td>2015-12-27 23:59:00</td>\n",
       "      <td>5.7</td>\n",
       "    </tr>\n",
       "    <tr>\n",
       "      <th>77849</th>\n",
       "      <td>2015-12-28 23:59:00</td>\n",
       "      <td>8.3</td>\n",
       "    </tr>\n",
       "    <tr>\n",
       "      <th>77897</th>\n",
       "      <td>2015-12-29 23:59:00</td>\n",
       "      <td>7.0</td>\n",
       "    </tr>\n",
       "    <tr>\n",
       "      <th>77936</th>\n",
       "      <td>2015-12-30 23:59:00</td>\n",
       "      <td>4.1</td>\n",
       "    </tr>\n",
       "    <tr>\n",
       "      <th>77970</th>\n",
       "      <td>2015-12-31 23:59:00</td>\n",
       "      <td>5.4</td>\n",
       "    </tr>\n",
       "  </tbody>\n",
       "</table>\n",
       "<p>1246 rows × 2 columns</p>\n",
       "</div>"
      ],
      "text/plain": [
       "                     Date  Wind_speed\n",
       "38717 2012-07-31 23:59:00         3.8\n",
       "38771 2012-08-01 23:59:00         2.3\n",
       "38797 2012-08-02 23:59:00         2.7\n",
       "38823 2012-08-03 23:59:00         3.5\n",
       "38856 2012-08-04 23:59:00         3.1\n",
       "...                   ...         ...\n",
       "77823 2015-12-27 23:59:00         5.7\n",
       "77849 2015-12-28 23:59:00         8.3\n",
       "77897 2015-12-29 23:59:00         7.0\n",
       "77936 2015-12-30 23:59:00         4.1\n",
       "77970 2015-12-31 23:59:00         5.4\n",
       "\n",
       "[1246 rows x 2 columns]"
      ]
     },
     "execution_count": 51,
     "metadata": {},
     "output_type": "execute_result"
    }
   ],
   "source": [
    "daily_weather"
   ]
  },
  {
   "cell_type": "markdown",
   "id": "dd101f11",
   "metadata": {},
   "source": [
    "## Part 2: Storing Cleaned Data\n",
    "\n",
    "We are going to populate a database using the dataframes that we built."
   ]
  },
  {
   "cell_type": "code",
   "execution_count": 52,
   "id": "e74e556f",
   "metadata": {},
   "outputs": [],
   "source": [
    "# This allow us to run the code again (cmd prompt on windows)\n",
    "!del project.db\n",
    "!del schema.sql"
   ]
  },
  {
   "cell_type": "code",
   "execution_count": 53,
   "id": "f3529cf6",
   "metadata": {},
   "outputs": [],
   "source": [
    "engine = db.create_engine(DATABASE_URL)"
   ]
  },
  {
   "cell_type": "code",
   "execution_count": 54,
   "id": "d2bea0ff",
   "metadata": {},
   "outputs": [],
   "source": [
    "# if using SQL (as opposed to SQLAlchemy), define the commands \n",
    "# to create your 4 tables/dataframes\n",
    "HOURLY_WEATHER_SCHEMA = \"\"\"\n",
    "CREATE TABLE hourly_weather (\n",
    "    id INTEGER PRIMARY KEY AUTOINCREMENT,\n",
    "    Date DATETIME,\n",
    "    Precipitation FLOAT,\n",
    "    Wind_speed FLOAT\n",
    ");\n",
    "\"\"\"\n",
    "\n",
    "DAILY_WEATHER_SCHEMA = \"\"\"\n",
    "CREATE TABLE daily_weather(\n",
    "    id INTEGER PRIMARY KEY AUTOINCREMENT,\n",
    "    Date DATETIME,\n",
    "    Wind_speed FLOAT\n",
    ");\n",
    "\"\"\"\n",
    "\n",
    "TAXI_TRIPS_SCHEMA = \"\"\"\n",
    "CREATE TABLE taxi_trips (\n",
    "    id INTEGER PRIMARY KEY AUTOINCREMENT,\n",
    "    pickup_datetime DATETIME,\n",
    "    dropoff_datetime DATETIME,\n",
    "    pickup_longitude FLOAT,\n",
    "    pickup_latitude FLOAT,\n",
    "    dropoff_longitude FLOAT,\n",
    "    dropoff_latitude FLOAT,\n",
    "    tip_amount FLOAT,\n",
    "    total_amount FLOAT,\n",
    "    distance FLOAT\n",
    ");\n",
    "\"\"\"\n",
    "\n",
    "UBER_TRIPS_SCHEMA = \"\"\"\n",
    "CREATE TABLE uber_trips (\n",
    "    id INTEGER PRIMARY KEY AUTOINCREMENT,\n",
    "    total_amount FLOAT,\n",
    "    pickup_datetime DATETIME,\n",
    "    pickup_longitude FLOAT,\n",
    "    pickup_latitude FLOAT,\n",
    "    dropoff_longitude FLOAT,\n",
    "    dropoff_latitude FLOAT,\n",
    "    distance FLOAT\n",
    ");\n",
    "\"\"\""
   ]
  },
  {
   "cell_type": "code",
   "execution_count": 55,
   "id": "5f41e54b",
   "metadata": {},
   "outputs": [],
   "source": [
    "# create that required schema.sql file\n",
    "with open(DATABASE_SCHEMA_FILE, \"w\") as f:\n",
    "    f.write(HOURLY_WEATHER_SCHEMA)\n",
    "    f.write(DAILY_WEATHER_SCHEMA)\n",
    "    f.write(TAXI_TRIPS_SCHEMA)\n",
    "    f.write(UBER_TRIPS_SCHEMA)"
   ]
  },
  {
   "cell_type": "code",
   "execution_count": 56,
   "id": "02eccdba",
   "metadata": {},
   "outputs": [],
   "source": [
    "# create the tables with the schema files\n",
    "with engine.connect() as connection:\n",
    "    rs = connection.execute(DAILY_WEATHER_SCHEMA)\n",
    "    rs = connection.execute(HOURLY_WEATHER_SCHEMA)\n",
    "    rs = connection.execute(TAXI_TRIPS_SCHEMA)\n",
    "    rs = connection.execute(UBER_TRIPS_SCHEMA)"
   ]
  },
  {
   "cell_type": "markdown",
   "id": "c122964f",
   "metadata": {},
   "source": [
    "### Add Data to Database\n",
    "\n",
    "_Write some prose that tells the reader what you're about to do here._"
   ]
  },
  {
   "cell_type": "code",
   "execution_count": 58,
   "id": "0e68a363",
   "metadata": {},
   "outputs": [],
   "source": [
    "def dataframes_to_table(table_name_to_dataframe,engine): \n",
    "    \"\"\"\n",
    "   Transform a dataframe into a table\n",
    "            Parameters:\n",
    "                      table_name_to_dataframe: dictionnary\n",
    "                      engine : sql alchemy engine\n",
    "            Returns:\n",
    "                   Nothing, dataframe will be populated.\n",
    "    \"\"\"\n",
    "    for table_name, df in table_name_to_dataframe.items():\n",
    "        df.to_sql(table_name, con=engine, if_exists=\"append\", index=False)"
   ]
  },
  {
   "cell_type": "code",
   "execution_count": 59,
   "id": "45d6c06c",
   "metadata": {},
   "outputs": [],
   "source": [
    "table_name_to_dataframe = {\n",
    "    \"taxi_trips\": taxi_data,\n",
    "    \"uber_trips\": uber_data,\n",
    "    \"hourly_weather\": hourly_weather,\n",
    "    \"daily_weather\": daily_weather\n",
    "}\n",
    "\n",
    "dataframes_to_table(table_name_to_dataframe,engine)"
   ]
  },
  {
   "cell_type": "markdown",
   "id": "8cb6e33e",
   "metadata": {},
   "source": [
    "## Part 3: Understanding the Data"
   ]
  },
  {
   "cell_type": "markdown",
   "id": "612417e0",
   "metadata": {},
   "source": [
    "In this Part we write queries to our newly created database, and create a SQL file corresponding to each query."
   ]
  },
  {
   "cell_type": "code",
   "execution_count": 60,
   "id": "6a849e92",
   "metadata": {},
   "outputs": [],
   "source": [
    "def write_query_to_file(query: str, outfile: str ):\n",
    "    '''\n",
    "    Write an SQL query into a newly created file\n",
    "            Parameters:\n",
    "                    query (str): a string corresponding to the SQL query\n",
    "                    b (str): another string corresponding to file name\n",
    "            Returns:\n",
    "                   Nothing, a file will be created.\n",
    "    '''\n",
    "    with open(outfile,\"w\") as f:\n",
    "        f.write(query)"
   ]
  },
  {
   "cell_type": "markdown",
   "id": "ee70a777",
   "metadata": {},
   "source": [
    "### Query 1\n",
    "\n",
    "We are gonna compute: For 01-2009 through 06-2015, what hour of the day was the most popular to take a yellow taxi? The result should have 24 bins."
   ]
  },
  {
   "cell_type": "code",
   "execution_count": 61,
   "id": "d0bef2cf",
   "metadata": {},
   "outputs": [],
   "source": [
    "### Query info### \n",
    "QUERY_1 = \"\"\"\n",
    "SELECT\n",
    "    COUNT(pickup_datetime),\n",
    "    strftime ('%H', pickup_datetime) hour\n",
    "FROM taxi_trips\n",
    "GROUP BY strftime ('%H', pickup_datetime)\n",
    "\"\"\"\n",
    "QUERY_1_OUTFILE = f\"1_popular_hour_taxis.sql\""
   ]
  },
  {
   "cell_type": "code",
   "execution_count": 62,
   "id": "13fc2eeb",
   "metadata": {},
   "outputs": [],
   "source": [
    "### Saving query to file ### \n",
    "write_query_to_file(QUERY_1,QUERY_1_OUTFILE)"
   ]
  },
  {
   "cell_type": "code",
   "execution_count": 63,
   "id": "ccdb206b",
   "metadata": {},
   "outputs": [
    {
     "data": {
      "text/plain": [
       "[(9957, '00'),\n",
       " (7405, '01'),\n",
       " (5607, '02'),\n",
       " (4109, '03'),\n",
       " (3075, '04'),\n",
       " (2674, '05'),\n",
       " (5321, '06'),\n",
       " (9161, '07'),\n",
       " (11326, '08'),\n",
       " (11504, '09'),\n",
       " (11115, '10'),\n",
       " (11402, '11'),\n",
       " (12022, '12'),\n",
       " (12100, '13'),\n",
       " (12517, '14'),\n",
       " (11801, '15'),\n",
       " (9874, '16'),\n",
       " (11864, '17'),\n",
       " (14571, '18'),\n",
       " (15216, '19'),\n",
       " (14402, '20'),\n",
       " (14179, '21'),\n",
       " (13691, '22'),\n",
       " (12132, '23')]"
      ]
     },
     "execution_count": 63,
     "metadata": {},
     "output_type": "execute_result"
    }
   ],
   "source": [
    "### excuting query ###\n",
    "query1=engine.execute(QUERY_1).fetchall()\n",
    "query1"
   ]
  },
  {
   "cell_type": "markdown",
   "id": "d81fd581",
   "metadata": {},
   "source": [
    "### Query 2\n",
    "\n",
    "We are computing which day of the week are most popular to take an uber during this time period: For 01-2009 through 06-2015"
   ]
  },
  {
   "cell_type": "code",
   "execution_count": 64,
   "id": "d10ca8de",
   "metadata": {},
   "outputs": [],
   "source": [
    "QUERY_2 = \"\"\"\n",
    "SELECT\n",
    "    COUNT(pickup_datetime),\n",
    "    strftime ('%w', pickup_datetime) weekday\n",
    "FROM taxi_trips\n",
    "GROUP BY strftime ('%w', pickup_datetime)\n",
    "\"\"\"\n",
    "QUERY_2_OUTFILE = f\"2_popular_days_ubers.sql\"\n",
    "\n",
    "write_query_to_file(QUERY_2,QUERY_2_OUTFILE)"
   ]
  },
  {
   "cell_type": "code",
   "execution_count": 65,
   "id": "50d40dff",
   "metadata": {
    "scrolled": true
   },
   "outputs": [
    {
     "data": {
      "text/plain": [
       "[(33064, '0'),\n",
       " (31830, '1'),\n",
       " (34362, '2'),\n",
       " (35869, '3'),\n",
       " (36568, '4'),\n",
       " (37782, '5'),\n",
       " (37550, '6')]"
      ]
     },
     "execution_count": 65,
     "metadata": {},
     "output_type": "execute_result"
    }
   ],
   "source": [
    "engine.execute(QUERY_2).fetchall()"
   ]
  },
  {
   "cell_type": "markdown",
   "id": "eae0b9ac",
   "metadata": {},
   "source": [
    "### Query 3\n",
    "\n",
    "We are looking for the 95% percentile of distance traveled for all hired trips during July 2013."
   ]
  },
  {
   "cell_type": "code",
   "execution_count": 66,
   "id": "db871d3c",
   "metadata": {},
   "outputs": [],
   "source": [
    "QUERY_3 = \"\"\"\n",
    "WITH dist AS (\n",
    "    SELECT distance FROM taxi_trips WHERE strftime ('%Y',pickup_datetime)=='2013' AND strftime ('%m',pickup_datetime)=='07'\n",
    "    UNION ALL \n",
    "    SELECT distance from uber_trips WHERE strftime ('%Y',pickup_datetime)=='2013' AND strftime ('%m',pickup_datetime)=='07' )\n",
    "SELECT distance\n",
    "FROM dist\n",
    "ORDER BY distance ASC\n",
    "LIMIT 1\n",
    "OFFSET (SELECT COUNT(*) FROM dist )*95/100-1\n",
    "\"\"\"\n",
    "QUERY_3_OUTFILE = f\"3_95_distatnce_july.sql\"\n",
    "\n",
    "write_query_to_file(QUERY_3,QUERY_3_OUTFILE)\n",
    "\n"
   ]
  },
  {
   "cell_type": "code",
   "execution_count": 67,
   "id": "c5275f3a",
   "metadata": {},
   "outputs": [
    {
     "data": {
      "text/plain": [
       "[(9.911436206499419,)]"
      ]
     },
     "execution_count": 67,
     "metadata": {},
     "output_type": "execute_result"
    }
   ],
   "source": [
    "engine.execute(QUERY_3).fetchall()"
   ]
  },
  {
   "cell_type": "markdown",
   "id": "3731756c",
   "metadata": {},
   "source": [
    "### Query 4\n",
    "\n",
    "What were the top 10 days with the highest number of hired rides for 2009, and what was the average distance for each day?"
   ]
  },
  {
   "cell_type": "code",
   "execution_count": 68,
   "id": "4a2de40d",
   "metadata": {},
   "outputs": [],
   "source": [
    "QUERY_4 = \"\"\"\n",
    "WITH trips AS (\n",
    "    SELECT pickup_datetime,distance FROM taxi_trips WHERE strftime ('%Y',pickup_datetime)=='2009' \n",
    "    UNION ALL \n",
    "    SELECT pickup_datetime,distance FROM uber_trips WHERE strftime ('%Y',pickup_datetime)=='2009' )\n",
    "SELECT strftime('%Y-%m-%d', pickup_datetime) day_of_year,\n",
    "        COUNT(pickup_datetime) total_trips,\n",
    "        AVG(distance) avg_distance\n",
    "FROM trips\n",
    "GROUP BY day_of_year\n",
    "ORDER BY total_trips DESC\n",
    "LIMIT 10\n",
    "\"\"\"\n",
    "QUERY_4_OUTFILE = f\"4_10_days_2009_highest_number_rides_avg_dist.sql\"\n",
    "\n",
    "write_query_to_file(QUERY_4,QUERY_4_OUTFILE)\n"
   ]
  },
  {
   "cell_type": "code",
   "execution_count": 69,
   "id": "e860cf7a",
   "metadata": {},
   "outputs": [
    {
     "data": {
      "text/plain": [
       "[('2009-08-14', 244, 3.2334614144173464),\n",
       " ('2009-04-18', 235, 3.368568791389203),\n",
       " ('2009-07-23', 233, 3.616767652331063),\n",
       " ('2009-12-11', 232, 2.910283871536076),\n",
       " ('2009-12-05', 227, 2.729197140778201),\n",
       " ('2009-11-06', 226, 3.6776905278330516),\n",
       " ('2009-02-18', 225, 2.9039385751349096),\n",
       " ('2009-12-18', 224, 2.86329487887885),\n",
       " ('2009-11-07', 222, 2.9978410850294024),\n",
       " ('2009-09-12', 222, 2.9943547313822525)]"
      ]
     },
     "execution_count": 69,
     "metadata": {},
     "output_type": "execute_result"
    }
   ],
   "source": [
    "engine.execute(QUERY_4).fetchall()"
   ]
  },
  {
   "cell_type": "markdown",
   "id": "938f762a",
   "metadata": {},
   "source": [
    "### Query 5\n",
    "\n",
    "Which 10 days in 2014 were the windiest, and how many hired trips were made on those days?"
   ]
  },
  {
   "cell_type": "code",
   "execution_count": 70,
   "id": "8327ffbc",
   "metadata": {},
   "outputs": [],
   "source": [
    "QUERY_5 = \"\"\"\n",
    "WITH trips AS (\n",
    "    SELECT pickup_datetime FROM taxi_trips WHERE strftime ('%Y',pickup_datetime)=='2014' \n",
    "    UNION ALL \n",
    "    SELECT pickup_datetime FROM uber_trips WHERE strftime ('%Y',pickup_datetime)=='2014' )\n",
    "SELECT strftime('%Y-%m-%d', trips.pickup_datetime) day_of_year,\n",
    "        COUNT(trips.pickup_datetime) total_trips,\n",
    "        daily_weather.wind_speed wind\n",
    "FROM trips JOIN daily_weather ON strftime('%Y-%m-%d',trips.pickup_datetime)=strftime('%Y-%m-%d',daily_weather.Date)\n",
    "GROUP BY day_of_year\n",
    "ORDER BY wind DESC\n",
    "LIMIT 10\n",
    "\"\"\"\n",
    "QUERY_5_OUTFILE = f\"5_10_days_2014_windiest.sql\"\n",
    "\n",
    "write_query_to_file(QUERY_5,QUERY_5_OUTFILE)"
   ]
  },
  {
   "cell_type": "code",
   "execution_count": 71,
   "id": "95afb163",
   "metadata": {},
   "outputs": [
    {
     "data": {
      "text/plain": [
       "[('2014-03-13', 202, 14.1),\n",
       " ('2014-01-07', 183, 13.1),\n",
       " ('2014-02-13', 122, 12.6),\n",
       " ('2014-01-02', 141, 12.2),\n",
       " ('2014-03-26', 196, 11.9),\n",
       " ('2014-12-07', 168, 11.8),\n",
       " ('2014-12-08', 183, 11.5),\n",
       " ('2014-11-02', 185, 10.8),\n",
       " ('2014-03-29', 227, 10.8),\n",
       " ('2014-02-14', 169, 10.4)]"
      ]
     },
     "execution_count": 71,
     "metadata": {},
     "output_type": "execute_result"
    }
   ],
   "source": [
    "engine.execute(QUERY_5).fetchall()"
   ]
  },
  {
   "cell_type": "markdown",
   "id": "1d61ed36",
   "metadata": {},
   "source": [
    "### Query 6\n",
    "\n",
    "During Hurricane Sandy in NYC (Oct 29-30, 2012) and the week leading up to it, how many trips were taken each hour, and for each hour, how much precipitation did NYC receive and what was the sustained wind speed?"
   ]
  },
  {
   "cell_type": "code",
   "execution_count": 72,
   "id": "c6840ffa",
   "metadata": {},
   "outputs": [],
   "source": [
    "QUERY_6 = \"\"\"\n",
    "WITH trips AS (\n",
    "    SELECT pickup_datetime FROM taxi_trips WHERE strftime('%Y-%m-%d',pickup_datetime)=='2012-10-29' \n",
    "      OR strftime('%Y-%m-%d', pickup_datetime)=='2012-10-30'\n",
    "      OR strftime('%Y-%m-%d', pickup_datetime)=='2012-10-28'\n",
    "      OR strftime('%Y-%m-%d', pickup_datetime)=='2012-10-27'\n",
    "      OR strftime('%Y-%m-%d', pickup_datetime)=='2012-10-26'\n",
    "      OR strftime('%Y-%m-%d', pickup_datetime)=='2012-10-25'\n",
    "      OR strftime('%Y-%m-%d', pickup_datetime)=='2012-10-24'\n",
    "      OR strftime('%Y-%m-%d', pickup_datetime)=='2012-10-23'\n",
    "      OR strftime('%Y-%m-%d', pickup_datetime)=='2012-10-22'\n",
    "    UNION ALL \n",
    "    SELECT pickup_datetime FROM uber_trips WHERE strftime('%Y-%m-%d',pickup_datetime)=='2012-10-29' \n",
    "      OR strftime('%Y-%m-%d', pickup_datetime)=='2012-10-30'\n",
    "      OR strftime('%Y-%m-%d', pickup_datetime)=='2012-10-28'\n",
    "      OR strftime('%Y-%m-%d', pickup_datetime)=='2012-10-27'\n",
    "      OR strftime('%Y-%m-%d', pickup_datetime)=='2012-10-26'\n",
    "      OR strftime('%Y-%m-%d', pickup_datetime)=='2012-10-25'\n",
    "      OR strftime('%Y-%m-%d', pickup_datetime)=='2012-10-24'\n",
    "      OR strftime('%Y-%m-%d', pickup_datetime)=='2012-10-23'\n",
    "      OR strftime('%Y-%m-%d', pickup_datetime)=='2012-10-22')\n",
    "SELECT strftime('%Y-%m-%d-%H', trips.pickup_datetime) hour_of_day,\n",
    "        COUNT(trips.pickup_datetime) total_trips,\n",
    "        hourly_weather.Precipitation,\n",
    "        hourly_weather.Wind_speed\n",
    "FROM trips JOIN hourly_weather ON trips.pickup_datetime=hourly_weather.Date\n",
    "GROUP BY hour_of_day\n",
    "\"\"\"\n",
    "QUERY_6_OUTFILE = f\"6_Hurricane_hourly_2014_windiest.sql\"\n",
    "\n",
    "write_query_to_file(QUERY_6,QUERY_6_OUTFILE)"
   ]
  },
  {
   "cell_type": "code",
   "execution_count": 73,
   "id": "f193cc83",
   "metadata": {},
   "outputs": [
    {
     "data": {
      "text/plain": [
       "[('2012-10-25-00', 1, 0.0, 3.0),\n",
       " ('2012-10-27-10', 1, 0.0, 9.0),\n",
       " ('2012-10-28-11', 1, 0.0, 8.0)]"
      ]
     },
     "execution_count": 73,
     "metadata": {},
     "output_type": "execute_result"
    }
   ],
   "source": [
    "engine.execute(QUERY_6).fetchall()"
   ]
  },
  {
   "cell_type": "markdown",
   "id": "a13ced42",
   "metadata": {},
   "source": [
    "## Part 4: Visualizing the Data\n",
    "\n",
    "In this part we build multiple visualization of the data."
   ]
  },
  {
   "cell_type": "markdown",
   "id": "6d9eef42",
   "metadata": {},
   "source": [
    "### Visualization 1\n",
    "\n",
    "Creating an appropriate visualization for the first query/question in part 3: number of taxi trips per hour of day."
   ]
  },
  {
   "cell_type": "code",
   "execution_count": 74,
   "id": "0de8394c",
   "metadata": {},
   "outputs": [],
   "source": [
    "# use a more descriptive name for your function\n",
    "def Visual_1_taxi_per_hour_of_day():\n",
    "    \"\"\"\n",
    "    Plot the number of taxi trips per hour of day\n",
    "            Parameters:\n",
    "                      None\n",
    "            Returns:\n",
    "                   Nothing, a graph will be displayed\n",
    "    \"\"\"\n",
    "    data=engine.execute(QUERY_1).fetchall()\n",
    "    hours_of_day=[]\n",
    "    number_of_trips=[]\n",
    "    for elem in data:\n",
    "        hours_of_day.append(elem[1])\n",
    "        number_of_trips.append(elem[0])\n",
    "    plt.bar(hours_of_day,number_of_trips)\n",
    "    plt.title(\"Number of taxi trips per hour of day from 01-2009 to 06-2015\")\n",
    "    plt.show()\n"
   ]
  },
  {
   "cell_type": "code",
   "execution_count": 75,
   "id": "3c63e845",
   "metadata": {},
   "outputs": [
    {
     "data": {
      "image/png": "[encoded data removed]",
      "text/plain": [
       "<Figure size 432x288 with 1 Axes>"
      ]
     },
     "metadata": {
      "needs_background": "light"
     },
     "output_type": "display_data"
    }
   ],
   "source": [
    "Visual_1_taxi_per_hour_of_day()"
   ]
  },
  {
   "cell_type": "markdown",
   "id": "081d5174",
   "metadata": {},
   "source": [
    "### Visualization 2\n",
    "\n",
    "Creating a visualization that shows the average distance traveled per month (regardless of year - so group by each month). Include the 90% confidence interval around the mean in the visualization"
   ]
  },
  {
   "cell_type": "code",
   "execution_count": 76,
   "id": "97c5646a",
   "metadata": {},
   "outputs": [],
   "source": [
    "def Visual_2_Avg_distance_per_month(taxi_data: pd.DataFrame(),uber_data: pd.DataFrame()):\n",
    "    \"\"\"\n",
    "    Plot the number of taxi trips per hour of day\n",
    "            Parameters:\n",
    "                      taxi_data (DataFrame): The dataframe of taxi trip data.\n",
    "                      uber_date (Dataframe): The dataframe of uber trips data.\n",
    "            Returns:\n",
    "                   Nothing, a graph will be displayed\n",
    "    \"\"\"\n",
    "    taxi_data['mm'] = pd.to_datetime(taxi_data['pickup_datetime']).dt.month\n",
    "    uber_data['mm'] = pd.to_datetime(uber_data['pickup_datetime']).dt.month\n",
    "    taxi_data['yyyy'] = pd.to_datetime(taxi_data['pickup_datetime']).dt.year\n",
    "    uber_data['yyyy'] = pd.to_datetime(uber_data['pickup_datetime']).dt.year\n",
    "    distance_month_taxi=taxi_data[[\"distance\",\"mm\",'yyyy']]\n",
    "    distance_month_uber=uber_data[[\"distance\",\"mm\",'yyyy']]\n",
    "    distance_month=pd.concat([distance_month_taxi,distance_month_uber],ignore_index=True)\n",
    "    grouped_distance_month=distance_month.groupby([distance_month['yyyy'],distance_month[\"mm\"]]).sum()\n",
    "    values=[]\n",
    "    for i in range(12):\n",
    "        values.append([])\n",
    "    i=1\n",
    "    for value in grouped_distance_month[\"distance\"]:\n",
    "        values[i%12-1].append(value)\n",
    "        i+=1\n",
    "    plot_info=[]\n",
    "    for i in range(3):\n",
    "        plot_info.append([])\n",
    "    for month in values:\n",
    "        plot_info[0].append(np.mean(month))\n",
    "        plot_info[1].append(len(month))\n",
    "        plot_info[2].append(np.std(month))\n",
    "    means=plot_info[0]\n",
    "    ci_90=[]\n",
    "    for i in range(12):\n",
    "        ci_90.append(1.64*plot_info[2][i]/math.sqrt(plot_info[1][i]))\n",
    "    means=np.array(means)\n",
    "    ci_90=np.array(ci_90)\n",
    "    fig, ax = plt.subplots()\n",
    "    ax.plot(np.unique(taxi_data['mm']),means)\n",
    "    ax.fill_between(np.unique(taxi_data['mm']),(means-ci_90),(means+ci_90), color='b', alpha=.1)\n",
    "    ax.set_title(\"Average Distance traveled per month with 90% confidence interval\")\n",
    "    plt.show()\n",
    "        \n",
    "        \n",
    "    "
   ]
  },
  {
   "cell_type": "code",
   "execution_count": 77,
   "id": "06d89d28",
   "metadata": {},
   "outputs": [
    {
     "data": {
      "image/png": "[encoded data removed]",
      "text/plain": [
       "<Figure size 432x288 with 1 Axes>"
      ]
     },
     "metadata": {
      "needs_background": "light"
     },
     "output_type": "display_data"
    }
   ],
   "source": [
    "Visual_2_Avg_distance_per_month(taxi_data,uber_data)"
   ]
  },
  {
   "cell_type": "markdown",
   "id": "3cf77052",
   "metadata": {},
   "source": [
    "### Visualization 3\n",
    "\n",
    "Defining three lat/long coordinate boxes around the three major New York airports: LGA, JFK, and EWR (you can use bboxfinder to help).We are going to create a visualization that compares what day of the week was most popular for drop offs for each airport"
   ]
  },
  {
   "cell_type": "code",
   "execution_count": 78,
   "id": "e3d8e799",
   "metadata": {},
   "outputs": [
    {
     "data": {
      "image/png": "[encoded data removed]",
      "text/plain": [
       "<Figure size 402.375x360 with 1 Axes>"
      ]
     },
     "metadata": {
      "needs_background": "light"
     },
     "output_type": "display_data"
    }
   ],
   "source": [
    "def cleaning_keeping_only_data_for_coord(df: pd.DataFrame() ,coord: tuple ,air_portname : str) -> pd.DataFrame():\n",
    "    \"\"\"\n",
    "    Subfuction, filters a dataframe based on coordinated of a box\n",
    "            Parameters:\n",
    "                      df (DataFrame): The dataframe you want to filter.\n",
    "                      coord (tuple): A tuple containing Lat/Long coordinated of the box\n",
    "                      air_portname (string): Name of the airport corresponding to coordinates\n",
    "            Returns:\n",
    "                    df (DataFrame): a dataframe of trips where drips that did not dropoff in the airport gave been removed\n",
    "    \"\"\"\n",
    "    df = df[df.dropoff_latitude <= coord[1][0]]\n",
    "    df = df[df.dropoff_latitude > coord[0][0]]\n",
    "    df = df[df.dropoff_longitude <= coord[1][1]]\n",
    "    df = df[df.dropoff_latitude > coord[0][1]]\n",
    "    df[\"airport\"]=air_portname\n",
    "    return df\n",
    "\n",
    "def Visual_3_airport_dropoffs(taxi_data,uber_data):\n",
    "    \"\"\"\n",
    "    Plot the number of taxi dropff per day of the week for each Ny airport.\n",
    "            Parameters:\n",
    "                      taxi_data (DataFrame): The dataframe of taxi trip data.\n",
    "                      uber_date (Dataframe): The dataframe of uber trips data.\n",
    "            Returns:\n",
    "                   Nothing, a graph will be displayed\n",
    "    \"\"\"\n",
    "    JFK_data=cleaning_keeping_only_data_for_coord(taxi_data,JFK_BOX_COORDS,\"JFK\")\n",
    "    LGA_data=cleaning_keeping_only_data_for_coord(taxi_data,LGA_BOX_COORDS,\"LGA\")\n",
    "    EWR_data=cleaning_keeping_only_data_for_coord(taxi_data,EWR_BOX_COORDS,\"EWR\")\n",
    "    airport_data=pd.concat([JFK_data,LGA_data,EWR_data],ignore_index=True)\n",
    "    airport_data[\"day\"]=airport_data[\"pickup_datetime\"].dt.dayofweek\n",
    "    airport_data=airport_data[[\"day\",\"airport\",'pickup_datetime']]\n",
    "    sns.catplot(data=airport_data,kind='count',x='airport',hue='day').set(title=\"Most popular day of week for airport dropoff\")\n",
    "    return\n",
    "\n",
    "Visual_3_airport_dropoffs(taxi_data,uber_data)"
   ]
  },
  {
   "cell_type": "markdown",
   "id": "46318bdc",
   "metadata": {},
   "source": [
    "### Visualization 4  \n",
    "\n",
    "We are creating a heatmap of all hired trips over a map of the area. \n",
    "This was not implemented sorry."
   ]
  },
  {
   "cell_type": "markdown",
   "id": "ac68b8f4",
   "metadata": {},
   "source": [
    "### Visualization 5\n",
    "\n",
    "We are creating a scatter plot that compares tip amount versus distance."
   ]
  },
  {
   "cell_type": "code",
   "execution_count": 79,
   "id": "79dcfe2b",
   "metadata": {},
   "outputs": [
    {
     "data": {
      "image/png": "[encoded data removed]",
      "text/plain": [
       "<Figure size 1080x576 with 1 Axes>"
      ]
     },
     "metadata": {
      "needs_background": "light"
     },
     "output_type": "display_data"
    }
   ],
   "source": [
    "def Visual_5_tips_function_distance():\n",
    "    \"\"\"\n",
    "    Plot the a scatter plot comparing tips and distance\n",
    "            Parameters:\n",
    "                      None\n",
    "            Returns:\n",
    "                   Nothing, a graph will be displayed\n",
    "   \"\"\"\n",
    "    Query=\"\"\"\n",
    "SELECT taxi_trips.tip_amount tip,\n",
    "        taxi_trips.distance\n",
    "FROM taxi_trips\n",
    "ORDER BY tip DESC\n",
    "\"\"\"\n",
    "    data=engine.execute(Query).fetchall()\n",
    "    tips=[]\n",
    "    distance=[]\n",
    "    for elem in data:\n",
    "        tips.append(elem[0])\n",
    "        distance.append(elem[1])\n",
    "    fig, ax = plt.subplots(1,figsize=(15,8))\n",
    "    ax.scatter(distance,tips)\n",
    "    ax.set_title(\"Tip amount as a function of distance\")\n",
    "    ax.set_xlabel(\"Distance\")\n",
    "    ax.set_ylabel(\"Tip Amount\")\n",
    "    plt.show()\n",
    "    return \n",
    "\n",
    "Visual_5_tips_function_distance()"
   ]
  },
  {
   "cell_type": "markdown",
   "id": "8acc8ecc",
   "metadata": {},
   "source": [
    "### Visualization 6\n",
    "\n",
    "We are creating a scatter plot that compares tip amount versus precipitation."
   ]
  },
  {
   "cell_type": "code",
   "execution_count": 80,
   "id": "248d5a5a",
   "metadata": {},
   "outputs": [
    {
     "data": {
      "image/png": "[encoded data removed]",
      "text/plain": [
       "<Figure size 432x288 with 1 Axes>"
      ]
     },
     "metadata": {
      "needs_background": "light"
     },
     "output_type": "display_data"
    }
   ],
   "source": [
    "def Visual_6_tips_as_function_precipitation():\n",
    "    \"\"\"\n",
    "    Plot the a scatter plot comparing tips and precipitation\n",
    "            Parameters:\n",
    "                      None\n",
    "            Returns:\n",
    "                   Nothing, a graph will be displayed\n",
    "    \"\"\"\n",
    "    Query=\"\"\"\n",
    "SELECT taxi_trips.tip_amount tip,\n",
    "        hourly_weather.Precipitation precipitation\n",
    "FROM taxi_trips JOIN hourly_weather ON taxi_trips.pickup_datetime=hourly_weather.Date\n",
    "ORDER BY tip DESC\n",
    "\"\"\"\n",
    "    data=engine.execute(Query).fetchall()\n",
    "    tips=[]\n",
    "    Precipitation=[]\n",
    "    for elem in data:\n",
    "        tips.append(elem[0])\n",
    "        Precipitation.append(elem[1])\n",
    "    plt.scatter(Precipitation, tips)\n",
    "    plt.title(\"Tip amount as a function of Precipitation\")\n",
    "    plt.xlabel('Precipitation')\n",
    "    plt.ylabel('Tip amount')\n",
    "    plt.show()\n",
    "    return \n",
    "#strftime ('%Y',pickup_datetime)=='2014'\n",
    "\n",
    "Visual_6_tips_as_function_precipitation()"
   ]
  },
  {
   "cell_type": "markdown",
   "id": "d5883761",
   "metadata": {},
   "source": [
    "### Visualization 7\n",
    "\n",
    "Here we create 3 visualization questions that can be answered using our data"
   ]
  },
  {
   "cell_type": "markdown",
   "id": "7158dbf1",
   "metadata": {},
   "source": [
    "Question 1: Plot an approriate visualization for query 2 in part 3."
   ]
  },
  {
   "cell_type": "code",
   "execution_count": 81,
   "id": "491ff3a6",
   "metadata": {},
   "outputs": [
    {
     "data": {
      "image/png": "[encoded data removed]",
      "text/plain": [
       "<Figure size 432x288 with 1 Axes>"
      ]
     },
     "metadata": {
      "needs_background": "light"
     },
     "output_type": "display_data"
    }
   ],
   "source": [
    "def plot_visual_7_1_most_popular_day_for_ubers():\n",
    "    \"\"\"\n",
    "    Plot the a bar plot giving the total number of uber trips per day of week \n",
    "            Parameters:\n",
    "                      None\n",
    "            Returns:\n",
    "                   Nothing, a graph will be displayed\n",
    "    \"\"\"\n",
    "    QUERY_2 = \"\"\"\n",
    "SELECT\n",
    "    COUNT(pickup_datetime),\n",
    "    strftime ('%w', pickup_datetime) weekday\n",
    "FROM taxi_trips\n",
    "GROUP BY strftime ('%w', pickup_datetime)\n",
    "\"\"\"\n",
    "    data=engine.execute(QUERY_2).fetchall()\n",
    "    Total_uber_trips=[]\n",
    "    Weekday=[]\n",
    "    for elem in data:\n",
    "        Total_uber_trips.append(elem[0])\n",
    "        Weekday.append(elem[1])\n",
    "    plt.bar(Weekday,Total_uber_trips)\n",
    "    plt.title(\"Most popular day of the week to take an uber\")\n",
    "    plt.xlabel(\"Day of the week (sunday=0)\")\n",
    "    plt.ylabel(\"Total number of uber trips\")\n",
    "    plt.show()\n",
    "    return\n",
    "\n",
    "plot_visual_7_1_most_popular_day_for_ubers()\n",
    "\n",
    "    "
   ]
  },
  {
   "cell_type": "markdown",
   "id": "8b581501",
   "metadata": {},
   "source": [
    "Question 2: Which month has the most total precipitation over the time period 2009 - 2015 ?"
   ]
  },
  {
   "cell_type": "code",
   "execution_count": 82,
   "id": "b12d5687",
   "metadata": {},
   "outputs": [
    {
     "data": {
      "image/png": "[encoded data removed]",
      "text/plain": [
       "<Figure size 432x288 with 1 Axes>"
      ]
     },
     "metadata": {
      "needs_background": "light"
     },
     "output_type": "display_data"
    }
   ],
   "source": [
    "def Visual_7_2_Month_with_highest_precipitation():\n",
    "    \"\"\"\n",
    "    Plot the a bar plot giving the total precipitation per day of week \n",
    "            Parameters:\n",
    "                      None\n",
    "            Returns:\n",
    "                   Nothing, a graph will be displayed\n",
    "    \"\"\"\n",
    "    QUERY = \"\"\"\n",
    "SELECT\n",
    "    strftime ('%m', Date) month,\n",
    "    SUM(Precipitation)\n",
    "FROM hourly_weather\n",
    "GROUP BY strftime ('%m', Date)\n",
    "\"\"\"\n",
    "    data=engine.execute(QUERY).fetchall()\n",
    "    Total_precipitation=[]\n",
    "    Month=[]\n",
    "    for elem in data:\n",
    "        Month.append(elem[0])\n",
    "        Total_precipitation.append(elem[1])\n",
    "    plt.bar(Month,Total_precipitation)\n",
    "    plt.title(\"Month of the year with highest total precipitation over 6 years\")\n",
    "    plt.xlabel(\"Months (january=01)\")\n",
    "    plt.ylabel(\"Total Precipitation\")\n",
    "    plt.show()\n",
    "    return \n",
    "Visual_7_2_Month_with_highest_precipitation()"
   ]
  },
  {
   "cell_type": "markdown",
   "id": "2608b2b8",
   "metadata": {},
   "source": [
    "Question 3 : Which month in 2014 were the windiest, and how many hired trips were made during those months?"
   ]
  },
  {
   "cell_type": "code",
   "execution_count": 83,
   "id": "f4b2aa18",
   "metadata": {},
   "outputs": [
    {
     "data": {
      "image/png": "[encoded data removed]",
      "text/plain": [
       "<Figure size 432x288 with 2 Axes>"
      ]
     },
     "metadata": {
      "needs_background": "light"
     },
     "output_type": "display_data"
    }
   ],
   "source": [
    "def Visual_7_3_windies_month_2014_and_trips():\n",
    "    \"\"\"\n",
    "    Plot a double bar plot per month the total number of trips and the average wind speed\n",
    "            Parameters:\n",
    "                      None\n",
    "            Returns:\n",
    "                   Nothing, a graph will be displayed\n",
    "    \"\"\"\n",
    "    QUERY = \"\"\"\n",
    "WITH trips AS (\n",
    "    SELECT pickup_datetime FROM taxi_trips WHERE strftime ('%Y',pickup_datetime)=='2014' \n",
    "    UNION ALL \n",
    "    SELECT pickup_datetime FROM uber_trips WHERE strftime ('%Y',pickup_datetime)=='2014' )\n",
    "SELECT strftime('%m', trips.pickup_datetime) month,\n",
    "        COUNT(trips.pickup_datetime) total_trips,\n",
    "        SUM(daily_weather.wind_speed) wind,\n",
    "        COUNT(daily_weather.wind_speed) day_number\n",
    "FROM trips JOIN daily_weather ON strftime('%Y-%m-%d',trips.pickup_datetime)=strftime('%Y-%m-%d',daily_weather.Date)\n",
    "GROUP BY month\n",
    "ORDER BY month DESC\n",
    "\"\"\"\n",
    "    data=engine.execute(QUERY).fetchall()\n",
    "    Number_trips=[]\n",
    "    Month=[]\n",
    "    Average_wind_speed=[]\n",
    "    for elem in data:\n",
    "        Month.append(elem[0])\n",
    "        Number_trips.append(elem[1])\n",
    "        Average_wind_speed.append(elem[2]/elem[3])\n",
    "    fig,ax = plt.subplots()\n",
    "    ax.bar(Month,Number_trips, color=\"red\")\n",
    "    ax.set_xlabel(\"Month\")\n",
    "    ax.set_ylabel(\"Total number of trips\",color=\"red\")\n",
    "    ax2=ax.twinx()\n",
    "    ax2.bar(Month,Average_wind_speed,color=\"blue\",alpha=0.5)\n",
    "    ax2.set_ylabel(\"Average wind speed\",color=\"purple\",fontsize=14)\n",
    "    plt.show()\n",
    "    return\n",
    "\n",
    "Visual_7_3_windies_month_2014_and_trips()"
   ]
  }
 ],
 "metadata": {
  "kernelspec": {
   "display_name": "Python 3 (ipykernel)",
   "language": "python",
   "name": "python3"
  },
  "language_info": {
   "codemirror_mode": {
    "name": "ipython",
    "version": 3
   },
   "file_extension": ".py",
   "mimetype": "text/x-python",
   "name": "python",
   "nbconvert_exporter": "python",
   "pygments_lexer": "ipython3",
   "version": "3.10.2"
  }
 },
 "nbformat": 4,
 "nbformat_minor": 5
}
